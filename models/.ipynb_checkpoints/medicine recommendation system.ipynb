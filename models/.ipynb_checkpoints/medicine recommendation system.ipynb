{
 "cells": [
  {
   "cell_type": "code",
   "execution_count": 1,
   "id": "1ba439a1-b8f9-49fb-b08f-ca2fe1301e5f",
   "metadata": {},
   "outputs": [],
   "source": [
    "import pandas as pd\n"
   ]
  },
  {
   "cell_type": "code",
   "execution_count": 6,
   "id": "5f22c193-c93b-415d-83f8-e20e7f0710cc",
   "metadata": {},
   "outputs": [],
   "source": [
    "dataset = pd.read_csv(\"Training.csv\")"
   ]
  },
  {
   "cell_type": "code",
   "execution_count": 7,
   "id": "3644434e-653a-4d8f-8939-65be6023aa46",
   "metadata": {},
   "outputs": [
    {
     "data": {
      "text/html": [
       "<div>\n",
       "<style scoped>\n",
       "    .dataframe tbody tr th:only-of-type {\n",
       "        vertical-align: middle;\n",
       "    }\n",
       "\n",
       "    .dataframe tbody tr th {\n",
       "        vertical-align: top;\n",
       "    }\n",
       "\n",
       "    .dataframe thead th {\n",
       "        text-align: right;\n",
       "    }\n",
       "</style>\n",
       "<table border=\"1\" class=\"dataframe\">\n",
       "  <thead>\n",
       "    <tr style=\"text-align: right;\">\n",
       "      <th></th>\n",
       "      <th>itching</th>\n",
       "      <th>skin_rash</th>\n",
       "      <th>nodal_skin_eruptions</th>\n",
       "      <th>continuous_sneezing</th>\n",
       "      <th>shivering</th>\n",
       "      <th>chills</th>\n",
       "      <th>joint_pain</th>\n",
       "      <th>stomach_pain</th>\n",
       "      <th>acidity</th>\n",
       "      <th>ulcers_on_tongue</th>\n",
       "      <th>...</th>\n",
       "      <th>blackheads</th>\n",
       "      <th>scurring</th>\n",
       "      <th>skin_peeling</th>\n",
       "      <th>silver_like_dusting</th>\n",
       "      <th>small_dents_in_nails</th>\n",
       "      <th>inflammatory_nails</th>\n",
       "      <th>blister</th>\n",
       "      <th>red_sore_around_nose</th>\n",
       "      <th>yellow_crust_ooze</th>\n",
       "      <th>prognosis</th>\n",
       "    </tr>\n",
       "  </thead>\n",
       "  <tbody>\n",
       "    <tr>\n",
       "      <th>0</th>\n",
       "      <td>1</td>\n",
       "      <td>1</td>\n",
       "      <td>1</td>\n",
       "      <td>0</td>\n",
       "      <td>0</td>\n",
       "      <td>0</td>\n",
       "      <td>0</td>\n",
       "      <td>0</td>\n",
       "      <td>0</td>\n",
       "      <td>0</td>\n",
       "      <td>...</td>\n",
       "      <td>0</td>\n",
       "      <td>0</td>\n",
       "      <td>0</td>\n",
       "      <td>0</td>\n",
       "      <td>0</td>\n",
       "      <td>0</td>\n",
       "      <td>0</td>\n",
       "      <td>0</td>\n",
       "      <td>0</td>\n",
       "      <td>Fungal infection</td>\n",
       "    </tr>\n",
       "    <tr>\n",
       "      <th>1</th>\n",
       "      <td>0</td>\n",
       "      <td>1</td>\n",
       "      <td>1</td>\n",
       "      <td>0</td>\n",
       "      <td>0</td>\n",
       "      <td>0</td>\n",
       "      <td>0</td>\n",
       "      <td>0</td>\n",
       "      <td>0</td>\n",
       "      <td>0</td>\n",
       "      <td>...</td>\n",
       "      <td>0</td>\n",
       "      <td>0</td>\n",
       "      <td>0</td>\n",
       "      <td>0</td>\n",
       "      <td>0</td>\n",
       "      <td>0</td>\n",
       "      <td>0</td>\n",
       "      <td>0</td>\n",
       "      <td>0</td>\n",
       "      <td>Fungal infection</td>\n",
       "    </tr>\n",
       "    <tr>\n",
       "      <th>2</th>\n",
       "      <td>1</td>\n",
       "      <td>0</td>\n",
       "      <td>1</td>\n",
       "      <td>0</td>\n",
       "      <td>0</td>\n",
       "      <td>0</td>\n",
       "      <td>0</td>\n",
       "      <td>0</td>\n",
       "      <td>0</td>\n",
       "      <td>0</td>\n",
       "      <td>...</td>\n",
       "      <td>0</td>\n",
       "      <td>0</td>\n",
       "      <td>0</td>\n",
       "      <td>0</td>\n",
       "      <td>0</td>\n",
       "      <td>0</td>\n",
       "      <td>0</td>\n",
       "      <td>0</td>\n",
       "      <td>0</td>\n",
       "      <td>Fungal infection</td>\n",
       "    </tr>\n",
       "    <tr>\n",
       "      <th>3</th>\n",
       "      <td>1</td>\n",
       "      <td>1</td>\n",
       "      <td>0</td>\n",
       "      <td>0</td>\n",
       "      <td>0</td>\n",
       "      <td>0</td>\n",
       "      <td>0</td>\n",
       "      <td>0</td>\n",
       "      <td>0</td>\n",
       "      <td>0</td>\n",
       "      <td>...</td>\n",
       "      <td>0</td>\n",
       "      <td>0</td>\n",
       "      <td>0</td>\n",
       "      <td>0</td>\n",
       "      <td>0</td>\n",
       "      <td>0</td>\n",
       "      <td>0</td>\n",
       "      <td>0</td>\n",
       "      <td>0</td>\n",
       "      <td>Fungal infection</td>\n",
       "    </tr>\n",
       "    <tr>\n",
       "      <th>4</th>\n",
       "      <td>1</td>\n",
       "      <td>1</td>\n",
       "      <td>1</td>\n",
       "      <td>0</td>\n",
       "      <td>0</td>\n",
       "      <td>0</td>\n",
       "      <td>0</td>\n",
       "      <td>0</td>\n",
       "      <td>0</td>\n",
       "      <td>0</td>\n",
       "      <td>...</td>\n",
       "      <td>0</td>\n",
       "      <td>0</td>\n",
       "      <td>0</td>\n",
       "      <td>0</td>\n",
       "      <td>0</td>\n",
       "      <td>0</td>\n",
       "      <td>0</td>\n",
       "      <td>0</td>\n",
       "      <td>0</td>\n",
       "      <td>Fungal infection</td>\n",
       "    </tr>\n",
       "  </tbody>\n",
       "</table>\n",
       "<p>5 rows × 133 columns</p>\n",
       "</div>"
      ],
      "text/plain": [
       "   itching  skin_rash  nodal_skin_eruptions  continuous_sneezing  shivering  \\\n",
       "0        1          1                     1                    0          0   \n",
       "1        0          1                     1                    0          0   \n",
       "2        1          0                     1                    0          0   \n",
       "3        1          1                     0                    0          0   \n",
       "4        1          1                     1                    0          0   \n",
       "\n",
       "   chills  joint_pain  stomach_pain  acidity  ulcers_on_tongue  ...  \\\n",
       "0       0           0             0        0                 0  ...   \n",
       "1       0           0             0        0                 0  ...   \n",
       "2       0           0             0        0                 0  ...   \n",
       "3       0           0             0        0                 0  ...   \n",
       "4       0           0             0        0                 0  ...   \n",
       "\n",
       "   blackheads  scurring  skin_peeling  silver_like_dusting  \\\n",
       "0           0         0             0                    0   \n",
       "1           0         0             0                    0   \n",
       "2           0         0             0                    0   \n",
       "3           0         0             0                    0   \n",
       "4           0         0             0                    0   \n",
       "\n",
       "   small_dents_in_nails  inflammatory_nails  blister  red_sore_around_nose  \\\n",
       "0                     0                   0        0                     0   \n",
       "1                     0                   0        0                     0   \n",
       "2                     0                   0        0                     0   \n",
       "3                     0                   0        0                     0   \n",
       "4                     0                   0        0                     0   \n",
       "\n",
       "   yellow_crust_ooze         prognosis  \n",
       "0                  0  Fungal infection  \n",
       "1                  0  Fungal infection  \n",
       "2                  0  Fungal infection  \n",
       "3                  0  Fungal infection  \n",
       "4                  0  Fungal infection  \n",
       "\n",
       "[5 rows x 133 columns]"
      ]
     },
     "execution_count": 7,
     "metadata": {},
     "output_type": "execute_result"
    }
   ],
   "source": [
    "dataset.head()"
   ]
  },
  {
   "cell_type": "code",
   "execution_count": null,
   "id": "af637ff3e28776d9",
   "metadata": {},
   "outputs": [],
   "source": []
  },
  {
   "cell_type": "code",
   "execution_count": 8,
   "id": "b7f7db56-cd75-4e6b-a8f9-a544a55e32ea",
   "metadata": {},
   "outputs": [],
   "source": [
    "from sklearn.model_selection import train_test_split\n",
    "from sklearn.preprocessing import LabelEncoder"
   ]
  },
  {
   "cell_type": "code",
   "execution_count": 9,
   "id": "429b2996-5bd0-41be-b475-d5f9798ae694",
   "metadata": {},
   "outputs": [],
   "source": [
    "X = dataset.drop('prognosis', axis=1)\n",
    "y = dataset['prognosis']\n",
    "\n",
    "# ecoding prognonsis\n",
    "le = LabelEncoder()\n",
    "le.fit(y)\n",
    "Y = le.transform(y)\n",
    "    \n",
    "X_train, X_test, y_train, y_test = train_test_split(X, Y, test_size=0.3, random_state=20)"
   ]
  },
  {
   "cell_type": "code",
   "execution_count": 10,
   "id": "13e5f7d4-7bcd-4906-bd2d-e390c607c532",
   "metadata": {},
   "outputs": [
    {
     "name": "stdout",
     "output_type": "stream",
     "text": [
      "SVC Accuracy: 1.0\n",
      "SVC Confusion Matrix:\n",
      "[[40,  0,  0, ...,  0,  0,  0],\n",
      " [ 0, 43,  0, ...,  0,  0,  0],\n",
      " [ 0,  0, 28, ...,  0,  0,  0],\n",
      " ...,\n",
      " [ 0,  0,  0, ..., 34,  0,  0],\n",
      " [ 0,  0,  0, ...,  0, 41,  0],\n",
      " [ 0,  0,  0, ...,  0,  0, 31]]\n",
      "\n",
      "========================================\n",
      "\n",
      "RandomForest Accuracy: 1.0\n",
      "RandomForest Confusion Matrix:\n",
      "[[40,  0,  0, ...,  0,  0,  0],\n",
      " [ 0, 43,  0, ...,  0,  0,  0],\n",
      " [ 0,  0, 28, ...,  0,  0,  0],\n",
      " ...,\n",
      " [ 0,  0,  0, ..., 34,  0,  0],\n",
      " [ 0,  0,  0, ...,  0, 41,  0],\n",
      " [ 0,  0,  0, ...,  0,  0, 31]]\n",
      "\n",
      "========================================\n",
      "\n",
      "GradientBoosting Accuracy: 1.0\n",
      "GradientBoosting Confusion Matrix:\n",
      "[[40,  0,  0, ...,  0,  0,  0],\n",
      " [ 0, 43,  0, ...,  0,  0,  0],\n",
      " [ 0,  0, 28, ...,  0,  0,  0],\n",
      " ...,\n",
      " [ 0,  0,  0, ..., 34,  0,  0],\n",
      " [ 0,  0,  0, ...,  0, 41,  0],\n",
      " [ 0,  0,  0, ...,  0,  0, 31]]\n",
      "\n",
      "========================================\n",
      "\n",
      "KNeighbors Accuracy: 1.0\n",
      "KNeighbors Confusion Matrix:\n",
      "[[40,  0,  0, ...,  0,  0,  0],\n",
      " [ 0, 43,  0, ...,  0,  0,  0],\n",
      " [ 0,  0, 28, ...,  0,  0,  0],\n",
      " ...,\n",
      " [ 0,  0,  0, ..., 34,  0,  0],\n",
      " [ 0,  0,  0, ...,  0, 41,  0],\n",
      " [ 0,  0,  0, ...,  0,  0, 31]]\n",
      "\n",
      "========================================\n",
      "\n",
      "MultinomialNB Accuracy: 1.0\n",
      "MultinomialNB Confusion Matrix:\n",
      "[[40,  0,  0, ...,  0,  0,  0],\n",
      " [ 0, 43,  0, ...,  0,  0,  0],\n",
      " [ 0,  0, 28, ...,  0,  0,  0],\n",
      " ...,\n",
      " [ 0,  0,  0, ..., 34,  0,  0],\n",
      " [ 0,  0,  0, ...,  0, 41,  0],\n",
      " [ 0,  0,  0, ...,  0,  0, 31]]\n",
      "\n",
      "========================================\n",
      "\n"
     ]
    }
   ],
   "source": [
    "from sklearn.datasets import make_classification\n",
    "from sklearn.model_selection import train_test_split\n",
    "from sklearn.svm import SVC\n",
    "from sklearn.ensemble import RandomForestClassifier, GradientBoostingClassifier\n",
    "from sklearn.neighbors import KNeighborsClassifier\n",
    "from sklearn.naive_bayes import MultinomialNB\n",
    "from sklearn.metrics import accuracy_score, confusion_matrix\n",
    "import numpy as np\n",
    "\n",
    "\n",
    "# Create a dictionary to store models\n",
    "models = {\n",
    "    'SVC': SVC(kernel='linear'),\n",
    "    'RandomForest': RandomForestClassifier(n_estimators=100, random_state=42),\n",
    "    'GradientBoosting': GradientBoostingClassifier(n_estimators=100, random_state=42),\n",
    "    'KNeighbors': KNeighborsClassifier(n_neighbors=5),\n",
    "    'MultinomialNB': MultinomialNB()\n",
    "}\n",
    "\n",
    "# Loop through the models, train, test, and print results\n",
    "for model_name, model in models.items():\n",
    "    # Train the model\n",
    "    model.fit(X_train, y_train)\n",
    "\n",
    "    # Test the model\n",
    "    predictions = model.predict(X_test)\n",
    "\n",
    "    # Calculate accuracy\n",
    "    accuracy = accuracy_score(y_test, predictions)\n",
    "    print(f\"{model_name} Accuracy: {accuracy}\")\n",
    "\n",
    "    # Calculate confusion matrix\n",
    "    cm = confusion_matrix(y_test, predictions)\n",
    "    print(f\"{model_name} Confusion Matrix:\")\n",
    "    print(np.array2string(cm, separator=', '))\n",
    "\n",
    "    print(\"\\n\" + \"=\"*40 + \"\\n\")"
   ]
  },
  {
   "cell_type": "code",
   "execution_count": 11,
   "id": "ab5fe26e-cd29-4a0c-8e94-2cae4d8441f9",
   "metadata": {},
   "outputs": [
    {
     "data": {
      "text/plain": [
       "1.0"
      ]
     },
     "execution_count": 11,
     "metadata": {},
     "output_type": "execute_result"
    }
   ],
   "source": [
    "# selecting svc\n",
    "svc = SVC(kernel='linear')\n",
    "svc.fit(X_train,y_train)\n",
    "ypred = svc.predict(X_test)\n",
    "accuracy_score(y_test,ypred)"
   ]
  },
  {
   "cell_type": "code",
   "execution_count": 12,
   "id": "9caeed84-8cb7-4157-ae89-299c977af212",
   "metadata": {},
   "outputs": [],
   "source": [
    "# save svc\n",
    "import pickle\n",
    "pickle.dump(svc, open('../svc.pkl', 'wb'))"
   ]
  },
  {
   "cell_type": "code",
   "execution_count": 13,
   "id": "2d5b0244-c18a-4d20-8c40-5d4c699ff9f2",
   "metadata": {},
   "outputs": [],
   "source": [
    "# load model\n",
    "svc = pickle.load(open('../svc.pkl', 'rb'))"
   ]
  },
  {
   "cell_type": "code",
   "execution_count": 14,
   "id": "7bc6a4b5-f299-4017-a4c8-c4b94e7c2869",
   "metadata": {},
   "outputs": [
    {
     "name": "stdout",
     "output_type": "stream",
     "text": [
      "predicted disease : [40]\n",
      "Actual Disease : 40\n"
     ]
    },
    {
     "name": "stderr",
     "output_type": "stream",
     "text": [
      "C:\\Users\\ACER\\AppData\\Local\\Programs\\Python\\Python311\\Lib\\site-packages\\sklearn\\utils\\validation.py:2739: UserWarning: X does not have valid feature names, but SVC was fitted with feature names\n",
      "  warnings.warn(\n"
     ]
    }
   ],
   "source": [
    "# test 1:\n",
    "print(\"predicted disease :\",svc.predict(X_test.iloc[0].values.reshape(1,-1)))\n",
    "print(\"Actual Disease :\", y_test[0])"
   ]
  },
  {
   "cell_type": "code",
   "execution_count": 15,
   "id": "ca73c69d-95d5-4870-a8c6-0e1832308485",
   "metadata": {},
   "outputs": [
    {
     "name": "stdout",
     "output_type": "stream",
     "text": [
      "predicted disease : [39]\n",
      "Actual Disease : 39\n"
     ]
    },
    {
     "name": "stderr",
     "output_type": "stream",
     "text": [
      "C:\\Users\\ACER\\AppData\\Local\\Programs\\Python\\Python311\\Lib\\site-packages\\sklearn\\utils\\validation.py:2739: UserWarning: X does not have valid feature names, but SVC was fitted with feature names\n",
      "  warnings.warn(\n"
     ]
    }
   ],
   "source": [
    "# test 2:\n",
    "print(\"predicted disease :\",svc.predict(X_test.iloc[100].values.reshape(1,-1)))\n",
    "print(\"Actual Disease :\", y_test[100])"
   ]
  },
  {
   "cell_type": "code",
   "execution_count": 23,
   "id": "91d530e2-d33c-4a81-8f93-f3ea24ae2450",
   "metadata": {},
   "outputs": [],
   "source": [
    "sym_des = pd.read_csv(\"symtoms_df.csv\")\n",
    "precautions = pd.read_csv(\"precautions_df.csv\")\n",
    "workout = pd.read_csv(\"workout_df.csv\")\n",
    "description = pd.read_csv(\"description.csv\")\n",
    "diets = pd.read_csv(\"diets.csv\")"
   ]
  },
  {
   "cell_type": "code",
   "execution_count": 24,
   "id": "22a4e580-da20-42c8-b933-e554536bf4b0",
   "metadata": {},
   "outputs": [],
   "source": [
    "#============================================================\n",
    "# custome and helping functions\n",
    "#==========================helper funtions================\n",
    "def helper(dis):\n",
    "    desc = description[description['Disease'] == predicted_disease]['Description']\n",
    "    desc = \" \".join([w for w in desc])\n",
    "\n",
    "    pre = precautions[precautions['Disease'] == dis][['Precaution_1', 'Precaution_2', 'Precaution_3', 'Precaution_4']]\n",
    "    pre = [col for col in pre.values]\n",
    "\n",
    "   \n",
    "    die = diets[diets['Disease'] == dis]['Diet']\n",
    "    die = [die for die in die.values]\n",
    "\n",
    "    wrkout = workout[workout['disease'] == dis] ['workout']\n",
    "\n",
    "\n",
    "    return desc,pre,med,die,wrkout\n",
    "\n",
    "symptoms_dict = {'itching': 0, 'skin_rash': 1, 'nodal_skin_eruptions': 2, 'continuous_sneezing': 3, 'shivering': 4, 'chills': 5, 'joint_pain': 6, 'stomach_pain': 7, 'acidity': 8, 'ulcers_on_tongue': 9, 'muscle_wasting': 10, 'vomiting': 11, 'burning_micturition': 12, 'spotting_ urination': 13, 'fatigue': 14, 'weight_gain': 15, 'anxiety': 16, 'cold_hands_and_feets': 17, 'mood_swings': 18, 'weight_loss': 19, 'restlessness': 20, 'lethargy': 21, 'patches_in_throat': 22, 'irregular_sugar_level': 23, 'cough': 24, 'high_fever': 25, 'sunken_eyes': 26, 'breathlessness': 27, 'sweating': 28, 'dehydration': 29, 'indigestion': 30, 'headache': 31, 'yellowish_skin': 32, 'dark_urine': 33, 'nausea': 34, 'loss_of_appetite': 35, 'pain_behind_the_eyes': 36, 'back_pain': 37, 'constipation': 38, 'abdominal_pain': 39, 'diarrhoea': 40, 'mild_fever': 41, 'yellow_urine': 42, 'yellowing_of_eyes': 43, 'acute_liver_failure': 44, 'fluid_overload': 45, 'swelling_of_stomach': 46, 'swelled_lymph_nodes': 47, 'malaise': 48, 'blurred_and_distorted_vision': 49, 'phlegm': 50, 'throat_irritation': 51, 'redness_of_eyes': 52, 'sinus_pressure': 53, 'runny_nose': 54, 'congestion': 55, 'chest_pain': 56, 'weakness_in_limbs': 57, 'fast_heart_rate': 58, 'pain_during_bowel_movements': 59, 'pain_in_anal_region': 60, 'bloody_stool': 61, 'irritation_in_anus': 62, 'neck_pain': 63, 'dizziness': 64, 'cramps': 65, 'bruising': 66, 'obesity': 67, 'swollen_legs': 68, 'swollen_blood_vessels': 69, 'puffy_face_and_eyes': 70, 'enlarged_thyroid': 71, 'brittle_nails': 72, 'swollen_extremeties': 73, 'excessive_hunger': 74, 'extra_marital_contacts': 75, 'drying_and_tingling_lips': 76, 'slurred_speech': 77, 'knee_pain': 78, 'hip_joint_pain': 79, 'muscle_weakness': 80, 'stiff_neck': 81, 'swelling_joints': 82, 'movement_stiffness': 83, 'spinning_movements': 84, 'loss_of_balance': 85, 'unsteadiness': 86, 'weakness_of_one_body_side': 87, 'loss_of_smell': 88, 'bladder_discomfort': 89, 'foul_smell_of urine': 90, 'continuous_feel_of_urine': 91, 'passage_of_gases': 92, 'internal_itching': 93, 'toxic_look_(typhos)': 94, 'depression': 95, 'irritability': 96, 'muscle_pain': 97, 'altered_sensorium': 98, 'red_spots_over_body': 99, 'belly_pain': 100, 'abnormal_menstruation': 101, 'dischromic _patches': 102, 'watering_from_eyes': 103, 'increased_appetite': 104, 'polyuria': 105, 'family_history': 106, 'mucoid_sputum': 107, 'rusty_sputum': 108, 'lack_of_concentration': 109, 'visual_disturbances': 110, 'receiving_blood_transfusion': 111, 'receiving_unsterile_injections': 112, 'coma': 113, 'stomach_bleeding': 114, 'distention_of_abdomen': 115, 'history_of_alcohol_consumption': 116, 'fluid_overload.1': 117, 'blood_in_sputum': 118, 'prominent_veins_on_calf': 119, 'palpitations': 120, 'painful_walking': 121, 'pus_filled_pimples': 122, 'blackheads': 123, 'scurring': 124, 'skin_peeling': 125, 'silver_like_dusting': 126, 'small_dents_in_nails': 127, 'inflammatory_nails': 128, 'blister': 129, 'red_sore_around_nose': 130, 'yellow_crust_ooze': 131}\n",
    "diseases_list = {15: 'Fungal infection', 4: 'Allergy', 16: 'GERD', 9: 'Chronic cholestasis', 14: 'Drug Reaction', 33: 'Peptic ulcer diseae', 1: 'AIDS', 12: 'Diabetes ', 17: 'Gastroenteritis', 6: 'Bronchial Asthma', 23: 'Hypertension ', 30: 'Migraine', 7: 'Cervical spondylosis', 32: 'Paralysis (brain hemorrhage)', 28: 'Jaundice', 29: 'Malaria', 8: 'Chicken pox', 11: 'Dengue', 37: 'Typhoid', 40: 'hepatitis A', 19: 'Hepatitis B', 20: 'Hepatitis C', 21: 'Hepatitis D', 22: 'Hepatitis E', 3: 'Alcoholic hepatitis', 36: 'Tuberculosis', 10: 'Common Cold', 34: 'Pneumonia', 13: 'Dimorphic hemmorhoids(piles)', 18: 'Heart attack', 39: 'Varicose veins', 26: 'Hypothyroidism', 24: 'Hyperthyroidism', 25: 'Hypoglycemia', 31: 'Osteoarthristis', 5: 'Arthritis', 0: '(vertigo) Paroymsal  Positional Vertigo', 2: 'Acne', 38: 'Urinary tract infection', 35: 'Psoriasis', 27: 'Impetigo'}\n",
    "\n",
    "# Model Prediction function\n",
    "def get_predicted_value(patient_symptoms):\n",
    "    input_vector = np.zeros(len(symptoms_dict))\n",
    "    for item in patient_symptoms:\n",
    "        input_vector[symptoms_dict[item]] = 1\n",
    "    return diseases_list[svc.predict([input_vector])[0]]"
   ]
  },
  {
   "cell_type": "code",
   "execution_count": 25,
   "id": "be1c9789-c9f3-45f0-9e84-3486666f377f",
   "metadata": {},
   "outputs": [
    {
     "name": "stdin",
     "output_type": "stream",
     "text": [
      "Enter your symptoms....... itching,shivering,chills\n"
     ]
    },
    {
     "name": "stdout",
     "output_type": "stream",
     "text": [
      "=================predicted_disease============\n",
      "Allergy\n",
      "=================description==================\n",
      "Allergy is an immune system reaction to a substance in the environment.\n",
      "=================precautions==================\n",
      "1 :  apply calamine\n",
      "2 :  cover area with bandage\n",
      "3 :  nan\n",
      "4 :  use ice to compress itching\n",
      "=================workout==================\n",
      "5 :  Avoid allergenic foods\n",
      "6 :  Consume anti-inflammatory foods\n",
      "7 :  Include omega-3 fatty acids\n",
      "8 :  Stay hydrated\n",
      "9 :  Eat foods rich in vitamin C\n",
      "10 :  Include quercetin-rich foods\n",
      "11 :  Consume local honey\n",
      "12 :  Limit processed foods\n",
      "13 :  Include ginger in diet\n",
      "14 :  Avoid artificial additives\n",
      "=================diets==================\n",
      "15 :  ['Elimination Diet', 'Omega-3-rich foods', 'Vitamin C-rich foods', 'Quercetin-rich foods', 'Probiotics']\n"
     ]
    },
    {
     "name": "stderr",
     "output_type": "stream",
     "text": [
      "C:\\Users\\ACER\\AppData\\Local\\Programs\\Python\\Python311\\Lib\\site-packages\\sklearn\\utils\\validation.py:2739: UserWarning: X does not have valid feature names, but SVC was fitted with feature names\n",
      "  warnings.warn(\n"
     ]
    }
   ],
   "source": [
    "# Test 1\n",
    "# Split the user's input into a list of symptoms (assuming they are comma-separated) # itching,skin_rash,nodal_skin_eruptions\n",
    "symptoms = input(\"Enter your symptoms.......\")\n",
    "user_symptoms = [s.strip() for s in symptoms.split(',')]\n",
    "# Remove any extra characters, if any\n",
    "user_symptoms = [symptom.strip(\"[]' \") for symptom in user_symptoms]\n",
    "predicted_disease = get_predicted_value(user_symptoms)\n",
    "\n",
    "desc, pre, med, die, wrkout = helper(predicted_disease)\n",
    "\n",
    "print(\"=================predicted_disease============\")\n",
    "print(predicted_disease)\n",
    "print(\"=================description==================\")\n",
    "print(desc)\n",
    "print(\"=================precautions==================\")\n",
    "i = 1\n",
    "for p_i in pre[0]:\n",
    "    print(i, \": \", p_i)\n",
    "    i += 1\n",
    "\n",
    "\n",
    "print(\"=================workout==================\")\n",
    "for w_i in wrkout:\n",
    "    print(i, \": \", w_i)\n",
    "    i += 1\n",
    "\n",
    "print(\"=================diets==================\")\n",
    "for d_i in die:\n",
    "    print(i, \": \", d_i)\n",
    "    i += 1"
   ]
  },
  {
   "cell_type": "code",
   "execution_count": 31,
   "id": "e103760a-c76f-4a54-8445-a9df5b2357f5",
   "metadata": {},
   "outputs": [
    {
     "name": "stdin",
     "output_type": "stream",
     "text": [
      "Enter your symptoms....... chills,itching\n"
     ]
    },
    {
     "name": "stdout",
     "output_type": "stream",
     "text": [
      "=================predicted disease============\n",
      "Allergy\n",
      "=================description==================\n",
      "Allergy is an immune system reaction to a substance in the environment.\n",
      "=================precautions==================\n",
      "1 :  apply calamine\n",
      "2 :  cover area with bandage\n",
      "3 :  nan\n",
      "4 :  use ice to compress itching\n",
      "=================workout==================\n",
      "5 :  Avoid allergenic foods\n",
      "6 :  Consume anti-inflammatory foods\n",
      "7 :  Include omega-3 fatty acids\n",
      "8 :  Stay hydrated\n",
      "9 :  Eat foods rich in vitamin C\n",
      "10 :  Include quercetin-rich foods\n",
      "11 :  Consume local honey\n",
      "12 :  Limit processed foods\n",
      "13 :  Include ginger in diet\n",
      "14 :  Avoid artificial additives\n",
      "=================diets==================\n",
      "15 :  ['Elimination Diet', 'Omega-3-rich foods', 'Vitamin C-rich foods', 'Quercetin-rich foods', 'Probiotics']\n"
     ]
    },
    {
     "name": "stderr",
     "output_type": "stream",
     "text": [
      "C:\\Users\\ACER\\AppData\\Local\\Programs\\Python\\Python311\\Lib\\site-packages\\sklearn\\utils\\validation.py:2739: UserWarning: X does not have valid feature names, but SVC was fitted with feature names\n",
      "  warnings.warn(\n"
     ]
    }
   ],
   "source": [
    "# Test 1\n",
    "# Split the user's input into a list of symptoms (assuming they are comma-separated) # yellow_crust_ooze,red_sore_around_nose,small_dents_in_nails,inflammatory_nails,blister\n",
    "symptoms = input(\"Enter your symptoms.......\")\n",
    "user_symptoms = [s.strip() for s in symptoms.split(',')]\n",
    "# Remove any extra characters, if any\n",
    "user_symptoms = [symptom.strip(\"[]' \") for symptom in user_symptoms]\n",
    "predicted_disease = get_predicted_value(user_symptoms)\n",
    "\n",
    "desc, pre, med,die, wrkout = helper(predicted_disease)\n",
    "\n",
    "print(\"=================predicted disease============\")\n",
    "print(predicted_disease)\n",
    "print(\"=================description==================\")\n",
    "print(desc)\n",
    "print(\"=================precautions==================\")\n",
    "i = 1\n",
    "for p_i in pre[0]:\n",
    "    print(i, \": \", p_i)\n",
    "    i += 1\n",
    "\n",
    "\n",
    "print(\"=================workout==================\")\n",
    "for w_i in wrkout:\n",
    "    print(i, \": \", w_i)\n",
    "    i += 1\n",
    "\n",
    "print(\"=================diets==================\")\n",
    "for d_i in die:\n",
    "    print(i, \": \", d_i)\n",
    "    i += 1"
   ]
  },
  {
   "cell_type": "code",
   "execution_count": 30,
   "id": "b7adaadf-8e88-4e5e-b21c-cecccc53f0b7",
   "metadata": {},
   "outputs": [
    {
     "name": "stdout",
     "output_type": "stream",
     "text": [
      "1.6.1\n"
     ]
    }
   ],
   "source": [
    "# let's use pycharm flask app\n",
    "# but install this version in pycharm\n",
    "import sklearn\n",
    "print(sklearn.__version__)\n"
   ]
  },
  {
   "cell_type": "code",
   "execution_count": 7,
   "id": "f7123778-cbe8-4f78-8eed-e2749512fd77",
   "metadata": {
    "ExecuteTime": {
     "end_time": "2025-02-27T09:25:34.576805Z",
     "start_time": "2025-02-27T09:25:34.215699Z"
    }
   },
   "outputs": [
    {
     "name": "stdout",
     "output_type": "stream",
     "text": [
      "Cross-validation scores: [1. 1. 1. 1. 1.]\n",
      "Mean Accuracy: 1.0000\n",
      "Standard Deviation: 0.0000\n"
     ]
    }
   ],
   "source": [
    "import pandas as pd  # Import pandas\n",
    "from sklearn.model_selection import KFold, cross_val_score\n",
    "from sklearn.svm import SVC  # Support Vector Classifier\n",
    "\n",
    "# Define K-Fold Cross-Validation\n",
    "k = 5  # You can change this to 10 for better results\n",
    "kf = KFold(n_splits=k, shuffle=True, random_state=42)\n",
    "\n",
    "# Load your dataset\n",
    "dataset = pd.read_csv(\"Training.csv\")  # Ensure the file is in the correct directory\n",
    "X = dataset.drop(columns=['prognosis'])  # Features\n",
    "y = dataset['prognosis']  # Target variable\n",
    "\n",
    "# Initialize the model (Support Vector Classifier)\n",
    "model = SVC()\n",
    "\n",
    "# Perform Cross-Validation\n",
    "scores = cross_val_score(model, X, y, cv=kf, scoring='accuracy')\n",
    "\n",
    "# Print results\n",
    "print(f\"Cross-validation scores: {scores}\")\n",
    "print(f\"Mean Accuracy: {scores.mean():.4f}\")\n",
    "print(f\"Standard Deviation: {scores.std():.4f}\")\n"
   ]
  },
  {
   "cell_type": "code",
   "execution_count": 6,
   "id": "7a397aa879c6a748",
   "metadata": {},
   "outputs": [
    {
     "name": "stdout",
     "output_type": "stream",
     "text": [
      "   itching  skin_rash  nodal_skin_eruptions  continuous_sneezing  shivering  \\\n",
      "0        1          1                     1                    0          0   \n",
      "1        0          1                     1                    0          0   \n",
      "2        1          0                     1                    0          0   \n",
      "3        1          1                     0                    0          0   \n",
      "4        1          1                     1                    0          0   \n",
      "\n",
      "   chills  joint_pain  stomach_pain  acidity  ulcers_on_tongue  ...  \\\n",
      "0       0           0             0        0                 0  ...   \n",
      "1       0           0             0        0                 0  ...   \n",
      "2       0           0             0        0                 0  ...   \n",
      "3       0           0             0        0                 0  ...   \n",
      "4       0           0             0        0                 0  ...   \n",
      "\n",
      "   blackheads  scurring  skin_peeling  silver_like_dusting  \\\n",
      "0           0         0             0                    0   \n",
      "1           0         0             0                    0   \n",
      "2           0         0             0                    0   \n",
      "3           0         0             0                    0   \n",
      "4           0         0             0                    0   \n",
      "\n",
      "   small_dents_in_nails  inflammatory_nails  blister  red_sore_around_nose  \\\n",
      "0                     0                   0        0                     0   \n",
      "1                     0                   0        0                     0   \n",
      "2                     0                   0        0                     0   \n",
      "3                     0                   0        0                     0   \n",
      "4                     0                   0        0                     0   \n",
      "\n",
      "   yellow_crust_ooze         prognosis  \n",
      "0                  0  Fungal infection  \n",
      "1                  0  Fungal infection  \n",
      "2                  0  Fungal infection  \n",
      "3                  0  Fungal infection  \n",
      "4                  0  Fungal infection  \n",
      "\n",
      "[5 rows x 133 columns]\n",
      "Columns in dataset: Index(['itching', 'skin_rash', 'nodal_skin_eruptions', 'continuous_sneezing',\n",
      "       'shivering', 'chills', 'joint_pain', 'stomach_pain', 'acidity',\n",
      "       'ulcers_on_tongue',\n",
      "       ...\n",
      "       'blackheads', 'scurring', 'skin_peeling', 'silver_like_dusting',\n",
      "       'small_dents_in_nails', 'inflammatory_nails', 'blister',\n",
      "       'red_sore_around_nose', 'yellow_crust_ooze', 'prognosis'],\n",
      "      dtype='object', length=133)\n"
     ]
    }
   ],
   "source": [
    "import pandas as pd\n",
    "\n",
    "# Load your dataset\n",
    "dataset = pd.read_csv(\"Training.csv\")\n",
    "\n",
    "# Print the first few rows\n",
    "print(dataset.head())\n",
    "\n",
    "# Print column names\n",
    "print(\"Columns in dataset:\", dataset.columns)\n",
    "\n"
   ]
  },
  {
   "cell_type": "code",
   "execution_count": 5,
   "id": "6c92f6ba-feb9-401c-b8c5-ac3a8b864d5e",
   "metadata": {},
   "outputs": [
    {
     "name": "stdout",
     "output_type": "stream",
     "text": [
      "prognosis\n",
      "Fungal infection                           120\n",
      "Allergy                                    120\n",
      "GERD                                       120\n",
      "Chronic cholestasis                        120\n",
      "Drug Reaction                              120\n",
      "Peptic ulcer diseae                        120\n",
      "AIDS                                       120\n",
      "Diabetes                                   120\n",
      "Gastroenteritis                            120\n",
      "Bronchial Asthma                           120\n",
      "Hypertension                               120\n",
      "Migraine                                   120\n",
      "Cervical spondylosis                       120\n",
      "Paralysis (brain hemorrhage)               120\n",
      "Jaundice                                   120\n",
      "Malaria                                    120\n",
      "Chicken pox                                120\n",
      "Dengue                                     120\n",
      "Typhoid                                    120\n",
      "hepatitis A                                120\n",
      "Hepatitis B                                120\n",
      "Hepatitis C                                120\n",
      "Hepatitis D                                120\n",
      "Hepatitis E                                120\n",
      "Alcoholic hepatitis                        120\n",
      "Tuberculosis                               120\n",
      "Common Cold                                120\n",
      "Pneumonia                                  120\n",
      "Dimorphic hemmorhoids(piles)               120\n",
      "Heart attack                               120\n",
      "Varicose veins                             120\n",
      "Hypothyroidism                             120\n",
      "Hyperthyroidism                            120\n",
      "Hypoglycemia                               120\n",
      "Osteoarthristis                            120\n",
      "Arthritis                                  120\n",
      "(vertigo) Paroymsal  Positional Vertigo    120\n",
      "Acne                                       120\n",
      "Urinary tract infection                    120\n",
      "Psoriasis                                  120\n",
      "Impetigo                                   120\n",
      "Name: count, dtype: int64\n"
     ]
    }
   ],
   "source": [
    "print(y.value_counts())  # See how many times each disease appears\n"
   ]
  },
  {
   "cell_type": "code",
   "execution_count": 4,
   "id": "217872b7-0254-4d2b-8da8-1e87933c4289",
   "metadata": {},
   "outputs": [
    {
     "name": "stdout",
     "output_type": "stream",
     "text": [
      "prognosis\n",
      "Fungal infection                           120\n",
      "Allergy                                    120\n",
      "GERD                                       120\n",
      "Chronic cholestasis                        120\n",
      "Drug Reaction                              120\n",
      "Peptic ulcer diseae                        120\n",
      "AIDS                                       120\n",
      "Diabetes                                   120\n",
      "Gastroenteritis                            120\n",
      "Bronchial Asthma                           120\n",
      "Hypertension                               120\n",
      "Migraine                                   120\n",
      "Cervical spondylosis                       120\n",
      "Paralysis (brain hemorrhage)               120\n",
      "Jaundice                                   120\n",
      "Malaria                                    120\n",
      "Chicken pox                                120\n",
      "Dengue                                     120\n",
      "Typhoid                                    120\n",
      "hepatitis A                                120\n",
      "Hepatitis B                                120\n",
      "Hepatitis C                                120\n",
      "Hepatitis D                                120\n",
      "Hepatitis E                                120\n",
      "Alcoholic hepatitis                        120\n",
      "Tuberculosis                               120\n",
      "Common Cold                                120\n",
      "Pneumonia                                  120\n",
      "Dimorphic hemmorhoids(piles)               120\n",
      "Heart attack                               120\n",
      "Varicose veins                             120\n",
      "Hypothyroidism                             120\n",
      "Hyperthyroidism                            120\n",
      "Hypoglycemia                               120\n",
      "Osteoarthristis                            120\n",
      "Arthritis                                  120\n",
      "(vertigo) Paroymsal  Positional Vertigo    120\n",
      "Acne                                       120\n",
      "Urinary tract infection                    120\n",
      "Psoriasis                                  120\n",
      "Impetigo                                   120\n",
      "Name: count, dtype: int64\n"
     ]
    }
   ],
   "source": [
    "import pandas as pd\n",
    "\n",
    "# Load dataset again (if not already loaded)\n",
    "dataset = pd.read_csv(\"Training.csv\")\n",
    "\n",
    "# Define the target variable\n",
    "y = dataset['prognosis']\n",
    "\n",
    "# Print class distribution\n",
    "print(y.value_counts())\n"
   ]
  },
  {
   "cell_type": "code",
   "execution_count": 6,
   "id": "625285a7-7dfa-4b71-86b7-dac227efa1fe",
   "metadata": {},
   "outputs": [
    {
     "ename": "ValueError",
     "evalue": "could not convert string to float: 'Fungal infection'",
     "output_type": "error",
     "traceback": [
      "\u001B[1;31m---------------------------------------------------------------------------\u001B[0m",
      "\u001B[1;31mValueError\u001B[0m                                Traceback (most recent call last)",
      "Cell \u001B[1;32mIn[6], line 1\u001B[0m\n\u001B[1;32m----> 1\u001B[0m \u001B[38;5;28mprint\u001B[39m(\u001B[43mdataset\u001B[49m\u001B[38;5;241;43m.\u001B[39;49m\u001B[43mcorr\u001B[49m\u001B[43m(\u001B[49m\u001B[43m)\u001B[49m)  \u001B[38;5;66;03m# Check for highly correlated features\u001B[39;00m\n",
      "File \u001B[1;32m~\\AppData\\Local\\Programs\\Python\\Python311\\Lib\\site-packages\\pandas\\core\\frame.py:11049\u001B[0m, in \u001B[0;36mDataFrame.corr\u001B[1;34m(self, method, min_periods, numeric_only)\u001B[0m\n\u001B[0;32m  11047\u001B[0m cols \u001B[38;5;241m=\u001B[39m data\u001B[38;5;241m.\u001B[39mcolumns\n\u001B[0;32m  11048\u001B[0m idx \u001B[38;5;241m=\u001B[39m cols\u001B[38;5;241m.\u001B[39mcopy()\n\u001B[1;32m> 11049\u001B[0m mat \u001B[38;5;241m=\u001B[39m \u001B[43mdata\u001B[49m\u001B[38;5;241;43m.\u001B[39;49m\u001B[43mto_numpy\u001B[49m\u001B[43m(\u001B[49m\u001B[43mdtype\u001B[49m\u001B[38;5;241;43m=\u001B[39;49m\u001B[38;5;28;43mfloat\u001B[39;49m\u001B[43m,\u001B[49m\u001B[43m \u001B[49m\u001B[43mna_value\u001B[49m\u001B[38;5;241;43m=\u001B[39;49m\u001B[43mnp\u001B[49m\u001B[38;5;241;43m.\u001B[39;49m\u001B[43mnan\u001B[49m\u001B[43m,\u001B[49m\u001B[43m \u001B[49m\u001B[43mcopy\u001B[49m\u001B[38;5;241;43m=\u001B[39;49m\u001B[38;5;28;43;01mFalse\u001B[39;49;00m\u001B[43m)\u001B[49m\n\u001B[0;32m  11051\u001B[0m \u001B[38;5;28;01mif\u001B[39;00m method \u001B[38;5;241m==\u001B[39m \u001B[38;5;124m\"\u001B[39m\u001B[38;5;124mpearson\u001B[39m\u001B[38;5;124m\"\u001B[39m:\n\u001B[0;32m  11052\u001B[0m     correl \u001B[38;5;241m=\u001B[39m libalgos\u001B[38;5;241m.\u001B[39mnancorr(mat, minp\u001B[38;5;241m=\u001B[39mmin_periods)\n",
      "File \u001B[1;32m~\\AppData\\Local\\Programs\\Python\\Python311\\Lib\\site-packages\\pandas\\core\\frame.py:1993\u001B[0m, in \u001B[0;36mDataFrame.to_numpy\u001B[1;34m(self, dtype, copy, na_value)\u001B[0m\n\u001B[0;32m   1991\u001B[0m \u001B[38;5;28;01mif\u001B[39;00m dtype \u001B[38;5;129;01mis\u001B[39;00m \u001B[38;5;129;01mnot\u001B[39;00m \u001B[38;5;28;01mNone\u001B[39;00m:\n\u001B[0;32m   1992\u001B[0m     dtype \u001B[38;5;241m=\u001B[39m np\u001B[38;5;241m.\u001B[39mdtype(dtype)\n\u001B[1;32m-> 1993\u001B[0m result \u001B[38;5;241m=\u001B[39m \u001B[38;5;28;43mself\u001B[39;49m\u001B[38;5;241;43m.\u001B[39;49m\u001B[43m_mgr\u001B[49m\u001B[38;5;241;43m.\u001B[39;49m\u001B[43mas_array\u001B[49m\u001B[43m(\u001B[49m\u001B[43mdtype\u001B[49m\u001B[38;5;241;43m=\u001B[39;49m\u001B[43mdtype\u001B[49m\u001B[43m,\u001B[49m\u001B[43m \u001B[49m\u001B[43mcopy\u001B[49m\u001B[38;5;241;43m=\u001B[39;49m\u001B[43mcopy\u001B[49m\u001B[43m,\u001B[49m\u001B[43m \u001B[49m\u001B[43mna_value\u001B[49m\u001B[38;5;241;43m=\u001B[39;49m\u001B[43mna_value\u001B[49m\u001B[43m)\u001B[49m\n\u001B[0;32m   1994\u001B[0m \u001B[38;5;28;01mif\u001B[39;00m result\u001B[38;5;241m.\u001B[39mdtype \u001B[38;5;129;01mis\u001B[39;00m \u001B[38;5;129;01mnot\u001B[39;00m dtype:\n\u001B[0;32m   1995\u001B[0m     result \u001B[38;5;241m=\u001B[39m np\u001B[38;5;241m.\u001B[39masarray(result, dtype\u001B[38;5;241m=\u001B[39mdtype)\n",
      "File \u001B[1;32m~\\AppData\\Local\\Programs\\Python\\Python311\\Lib\\site-packages\\pandas\\core\\internals\\managers.py:1694\u001B[0m, in \u001B[0;36mBlockManager.as_array\u001B[1;34m(self, dtype, copy, na_value)\u001B[0m\n\u001B[0;32m   1692\u001B[0m         arr\u001B[38;5;241m.\u001B[39mflags\u001B[38;5;241m.\u001B[39mwriteable \u001B[38;5;241m=\u001B[39m \u001B[38;5;28;01mFalse\u001B[39;00m\n\u001B[0;32m   1693\u001B[0m \u001B[38;5;28;01melse\u001B[39;00m:\n\u001B[1;32m-> 1694\u001B[0m     arr \u001B[38;5;241m=\u001B[39m \u001B[38;5;28;43mself\u001B[39;49m\u001B[38;5;241;43m.\u001B[39;49m\u001B[43m_interleave\u001B[49m\u001B[43m(\u001B[49m\u001B[43mdtype\u001B[49m\u001B[38;5;241;43m=\u001B[39;49m\u001B[43mdtype\u001B[49m\u001B[43m,\u001B[49m\u001B[43m \u001B[49m\u001B[43mna_value\u001B[49m\u001B[38;5;241;43m=\u001B[39;49m\u001B[43mna_value\u001B[49m\u001B[43m)\u001B[49m\n\u001B[0;32m   1695\u001B[0m     \u001B[38;5;66;03m# The underlying data was copied within _interleave, so no need\u001B[39;00m\n\u001B[0;32m   1696\u001B[0m     \u001B[38;5;66;03m# to further copy if copy=True or setting na_value\u001B[39;00m\n\u001B[0;32m   1698\u001B[0m \u001B[38;5;28;01mif\u001B[39;00m na_value \u001B[38;5;129;01mis\u001B[39;00m lib\u001B[38;5;241m.\u001B[39mno_default:\n",
      "File \u001B[1;32m~\\AppData\\Local\\Programs\\Python\\Python311\\Lib\\site-packages\\pandas\\core\\internals\\managers.py:1753\u001B[0m, in \u001B[0;36mBlockManager._interleave\u001B[1;34m(self, dtype, na_value)\u001B[0m\n\u001B[0;32m   1751\u001B[0m     \u001B[38;5;28;01melse\u001B[39;00m:\n\u001B[0;32m   1752\u001B[0m         arr \u001B[38;5;241m=\u001B[39m blk\u001B[38;5;241m.\u001B[39mget_values(dtype)\n\u001B[1;32m-> 1753\u001B[0m     \u001B[43mresult\u001B[49m\u001B[43m[\u001B[49m\u001B[43mrl\u001B[49m\u001B[38;5;241;43m.\u001B[39;49m\u001B[43mindexer\u001B[49m\u001B[43m]\u001B[49m \u001B[38;5;241m=\u001B[39m arr\n\u001B[0;32m   1754\u001B[0m     itemmask[rl\u001B[38;5;241m.\u001B[39mindexer] \u001B[38;5;241m=\u001B[39m \u001B[38;5;241m1\u001B[39m\n\u001B[0;32m   1756\u001B[0m \u001B[38;5;28;01mif\u001B[39;00m \u001B[38;5;129;01mnot\u001B[39;00m itemmask\u001B[38;5;241m.\u001B[39mall():\n",
      "\u001B[1;31mValueError\u001B[0m: could not convert string to float: 'Fungal infection'"
     ]
    }
   ],
   "source": [
    "print(dataset.corr())  # Check for highly correlated features\n"
   ]
  },
  {
   "cell_type": "code",
   "execution_count": 7,
   "id": "bb6090f0-0839-4e0a-80c7-fa4e4accd9b1",
   "metadata": {},
   "outputs": [
    {
     "name": "stdout",
     "output_type": "stream",
     "text": [
      "                       itching  skin_rash  nodal_skin_eruptions  \\\n",
      "itching               1.000000   0.318158              0.326439   \n",
      "skin_rash             0.318158   1.000000              0.298143   \n",
      "nodal_skin_eruptions  0.326439   0.298143              1.000000   \n",
      "continuous_sneezing  -0.086906  -0.094786             -0.032566   \n",
      "shivering            -0.059893  -0.065324             -0.022444   \n",
      "...                        ...        ...                   ...   \n",
      "small_dents_in_nails -0.061573   0.331087             -0.023073   \n",
      "inflammatory_nails   -0.061573   0.331087             -0.023073   \n",
      "blister              -0.061573   0.331087             -0.023073   \n",
      "red_sore_around_nose -0.061573   0.331087             -0.023073   \n",
      "yellow_crust_ooze    -0.061573   0.331087             -0.023073   \n",
      "\n",
      "                      continuous_sneezing  shivering    chills  joint_pain  \\\n",
      "itching                         -0.086906  -0.059893 -0.175905   -0.160650   \n",
      "skin_rash                       -0.094786  -0.065324 -0.029324    0.171134   \n",
      "nodal_skin_eruptions            -0.032566  -0.022444 -0.065917   -0.060200   \n",
      "continuous_sneezing              1.000000   0.608981  0.446238   -0.087351   \n",
      "shivering                        0.608981   1.000000  0.295332   -0.060200   \n",
      "...                                   ...        ...       ...         ...   \n",
      "small_dents_in_nails            -0.033480  -0.023073 -0.067765    0.359845   \n",
      "inflammatory_nails              -0.033480  -0.023073 -0.067765    0.359845   \n",
      "blister                         -0.033480  -0.023073 -0.067765   -0.061889   \n",
      "red_sore_around_nose            -0.033480  -0.023073 -0.067765   -0.061889   \n",
      "yellow_crust_ooze               -0.033480  -0.023073 -0.067765   -0.061889   \n",
      "\n",
      "                      stomach_pain   acidity  ulcers_on_tongue  ...  \\\n",
      "itching                   0.202850 -0.086906         -0.059893  ...   \n",
      "skin_rash                 0.161784 -0.094786         -0.065324  ...   \n",
      "nodal_skin_eruptions     -0.032566 -0.032566         -0.022444  ...   \n",
      "continuous_sneezing      -0.047254 -0.047254         -0.032566  ...   \n",
      "shivering                -0.032566 -0.032566         -0.022444  ...   \n",
      "...                            ...       ...               ...  ...   \n",
      "small_dents_in_nails     -0.033480 -0.033480         -0.023073  ...   \n",
      "inflammatory_nails       -0.033480 -0.033480         -0.023073  ...   \n",
      "blister                  -0.033480 -0.033480         -0.023073  ...   \n",
      "red_sore_around_nose     -0.033480 -0.033480         -0.023073  ...   \n",
      "yellow_crust_ooze        -0.033480 -0.033480         -0.023073  ...   \n",
      "\n",
      "                      pus_filled_pimples  blackheads  scurring  skin_peeling  \\\n",
      "itching                        -0.059893   -0.059893 -0.059893     -0.061573   \n",
      "skin_rash                       0.320859    0.320859  0.320859      0.331087   \n",
      "nodal_skin_eruptions           -0.022444   -0.022444 -0.022444     -0.023073   \n",
      "continuous_sneezing            -0.032566   -0.032566 -0.032566     -0.033480   \n",
      "shivering                      -0.022444   -0.022444 -0.022444     -0.023073   \n",
      "...                                  ...         ...       ...           ...   \n",
      "small_dents_in_nails           -0.023073   -0.023073 -0.023073      0.946120   \n",
      "inflammatory_nails             -0.023073   -0.023073 -0.023073      0.946120   \n",
      "blister                        -0.023073   -0.023073 -0.023073     -0.023720   \n",
      "red_sore_around_nose           -0.023073   -0.023073 -0.023073     -0.023720   \n",
      "yellow_crust_ooze              -0.023073   -0.023073 -0.023073     -0.023720   \n",
      "\n",
      "                      silver_like_dusting  small_dents_in_nails  \\\n",
      "itching                         -0.061573             -0.061573   \n",
      "skin_rash                        0.331087              0.331087   \n",
      "nodal_skin_eruptions            -0.023073             -0.023073   \n",
      "continuous_sneezing             -0.033480             -0.033480   \n",
      "shivering                       -0.023073             -0.023073   \n",
      "...                                   ...                   ...   \n",
      "small_dents_in_nails             0.946120              1.000000   \n",
      "inflammatory_nails               0.946120              0.946120   \n",
      "blister                         -0.023720             -0.023720   \n",
      "red_sore_around_nose            -0.023720             -0.023720   \n",
      "yellow_crust_ooze               -0.023720             -0.023720   \n",
      "\n",
      "                      inflammatory_nails   blister  red_sore_around_nose  \\\n",
      "itching                        -0.061573 -0.061573             -0.061573   \n",
      "skin_rash                       0.331087  0.331087              0.331087   \n",
      "nodal_skin_eruptions           -0.023073 -0.023073             -0.023073   \n",
      "continuous_sneezing            -0.033480 -0.033480             -0.033480   \n",
      "shivering                      -0.023073 -0.023073             -0.023073   \n",
      "...                                  ...       ...                   ...   \n",
      "small_dents_in_nails            0.946120 -0.023720             -0.023720   \n",
      "inflammatory_nails              1.000000 -0.023720             -0.023720   \n",
      "blister                        -0.023720  1.000000              0.946120   \n",
      "red_sore_around_nose           -0.023720  0.946120              1.000000   \n",
      "yellow_crust_ooze              -0.023720  0.946120              0.946120   \n",
      "\n",
      "                      yellow_crust_ooze  \n",
      "itching                       -0.061573  \n",
      "skin_rash                      0.331087  \n",
      "nodal_skin_eruptions          -0.023073  \n",
      "continuous_sneezing           -0.033480  \n",
      "shivering                     -0.023073  \n",
      "...                                 ...  \n",
      "small_dents_in_nails          -0.023720  \n",
      "inflammatory_nails            -0.023720  \n",
      "blister                        0.946120  \n",
      "red_sore_around_nose           0.946120  \n",
      "yellow_crust_ooze              1.000000  \n",
      "\n",
      "[132 rows x 132 columns]\n"
     ]
    }
   ],
   "source": [
    "# Convert categorical 'prognosis' column to numeric labels temporarily\n",
    "dataset_numeric = dataset.drop(columns=['prognosis'])  # Remove non-numeric column\n",
    "\n",
    "# Compute correlation matrix\n",
    "correlation_matrix = dataset_numeric.corr()\n",
    "\n",
    "# Display correlation matrix\n",
    "print(correlation_matrix)\n"
   ]
  },
  {
   "cell_type": "code",
   "execution_count": 8,
   "id": "f073e7da-b565-4f0d-8749-cd19733bb6e2",
   "metadata": {},
   "outputs": [
    {
     "name": "stdout",
     "output_type": "stream",
     "text": [
      "[('spinning_movements', 'unsteadiness'), ('cold_hands_and_feets', 'swollen_extremeties'), ('distention_of_abdomen', 'history_of_alcohol_consumption'), ('bloody_stool', 'irritation_in_anus'), ('brittle_nails', 'puffy_face_and_eyes'), ('pain_during_bowel_movements', 'pain_in_anal_region'), ('cold_hands_and_feets', 'puffy_face_and_eyes'), ('bruising', 'swollen_legs'), ('history_of_alcohol_consumption', 'swelling_of_stomach'), ('runny_nose', 'throat_irritation'), ('cold_hands_and_feets', 'weight_gain'), ('cramps', 'swollen_legs'), ('inflammatory_nails', 'silver_like_dusting'), ('blister', 'yellow_crust_ooze'), ('coma', 'stomach_bleeding'), ('sinus_pressure', 'throat_irritation'), ('abnormal_menstruation', 'mood_swings'), ('redness_of_eyes', 'runny_nose'), ('internal_itching', 'passage_of_gases'), ('redness_of_eyes', 'throat_irritation'), ('irregular_sugar_level', 'polyuria'), ('drying_and_tingling_lips', 'palpitations'), ('bruising', 'swollen_blood_vessels'), ('receiving_unsterile_injections', 'yellow_urine'), ('anxiety', 'palpitations'), ('increased_appetite', 'irregular_sugar_level'), ('brittle_nails', 'swollen_extremeties'), ('enlarged_thyroid', 'puffy_face_and_eyes'), ('puffy_face_and_eyes', 'swollen_extremeties'), ('runny_nose', 'sinus_pressure'), ('cramps', 'swollen_blood_vessels'), ('receiving_blood_transfusion', 'yellow_urine'), ('brittle_nails', 'weight_gain'), ('irritation_in_anus', 'pain_during_bowel_movements'), ('irritation_in_anus', 'pain_in_anal_region'), ('receiving_blood_transfusion', 'receiving_unsterile_injections'), ('redness_of_eyes', 'sinus_pressure'), ('puffy_face_and_eyes', 'weight_gain'), ('bruising', 'prominent_veins_on_calf'), ('distention_of_abdomen', 'swelling_of_stomach'), ('congestion', 'loss_of_smell'), ('cramps', 'prominent_veins_on_calf'), ('congestion', 'redness_of_eyes'), ('anxiety', 'drying_and_tingling_lips'), ('enlarged_thyroid', 'swollen_extremeties'), ('painful_walking', 'swelling_joints'), ('swollen_extremeties', 'weight_gain'), ('swollen_blood_vessels', 'swollen_legs'), ('congestion', 'runny_nose'), ('distention_of_abdomen', 'fluid_overload.1'), ('congestion', 'throat_irritation'), ('enlarged_thyroid', 'weight_gain'), ('bloody_stool', 'pain_in_anal_region'), ('blister', 'red_sore_around_nose'), ('fluid_overload.1', 'history_of_alcohol_consumption'), ('bladder_discomfort', 'continuous_feel_of_urine'), ('loss_of_smell', 'redness_of_eyes'), ('cold_hands_and_feets', 'enlarged_thyroid'), ('silver_like_dusting', 'small_dents_in_nails'), ('palpitations', 'slurred_speech'), ('brittle_nails', 'cold_hands_and_feets'), ('bruising', 'cramps'), ('loss_of_smell', 'runny_nose'), ('fluid_overload.1', 'swelling_of_stomach'), ('loss_of_smell', 'throat_irritation'), ('prominent_veins_on_calf', 'swollen_blood_vessels'), ('silver_like_dusting', 'skin_peeling'), ('acute_liver_failure', 'coma'), ('congestion', 'sinus_pressure'), ('inflammatory_nails', 'small_dents_in_nails'), ('hip_joint_pain', 'knee_pain'), ('prominent_veins_on_calf', 'swollen_legs'), ('altered_sensorium', 'weakness_of_one_body_side'), ('skin_peeling', 'small_dents_in_nails'), ('bloody_stool', 'pain_during_bowel_movements'), ('inflammatory_nails', 'skin_peeling'), ('acute_liver_failure', 'stomach_bleeding'), ('brittle_nails', 'enlarged_thyroid'), ('belly_pain', 'toxic_look_(typhos)'), ('increased_appetite', 'polyuria'), ('red_sore_around_nose', 'yellow_crust_ooze'), ('loss_of_smell', 'sinus_pressure'), ('drying_and_tingling_lips', 'slurred_speech'), ('anxiety', 'slurred_speech')]\n"
     ]
    }
   ],
   "source": [
    "import numpy as np\n",
    "\n",
    "# Find pairs of highly correlated features\n",
    "correlation_threshold = 0.9\n",
    "high_corr_features = np.where(correlation_matrix > correlation_threshold)\n",
    "\n",
    "# List feature pairs with high correlation\n",
    "high_corr_pairs = [(correlation_matrix.index[i], correlation_matrix.columns[j]) \n",
    "                   for i, j in zip(*high_corr_features) if i != j]\n",
    "\n",
    "# Print unique feature pairs\n",
    "unique_corr_pairs = list(set(tuple(sorted(pair)) for pair in high_corr_pairs))\n",
    "print(unique_corr_pairs)\n"
   ]
  },
  {
   "cell_type": "code",
   "execution_count": 9,
   "id": "2143a090-889e-44ff-a786-ef69bba62630",
   "metadata": {},
   "outputs": [
    {
     "name": "stdout",
     "output_type": "stream",
     "text": [
      "(4920, 129)\n"
     ]
    }
   ],
   "source": [
    "# Drop one feature from each highly correlated pair\n",
    "dataset_cleaned = dataset_numeric.drop(columns=[\"small_dents_in_nails\", \"red_sore_around_nose\", \"blister\"])\n",
    "print(dataset_cleaned.shape)\n"
   ]
  },
  {
   "cell_type": "code",
   "execution_count": 19,
   "id": "dacf1a49-2b38-44f7-80e0-f7f7667ecfc3",
   "metadata": {},
   "outputs": [
    {
     "ename": "KeyError",
     "evalue": "\"['prognosis'] not found in axis\"",
     "output_type": "error",
     "traceback": [
      "\u001B[1;31m---------------------------------------------------------------------------\u001B[0m",
      "\u001B[1;31mKeyError\u001B[0m                                  Traceback (most recent call last)",
      "Cell \u001B[1;32mIn[19], line 11\u001B[0m\n\u001B[0;32m      8\u001B[0m dataset \u001B[38;5;241m=\u001B[39m pd\u001B[38;5;241m.\u001B[39mread_csv(\u001B[38;5;124m\"\u001B[39m\u001B[38;5;124myour_cleaned_dataset.csv\u001B[39m\u001B[38;5;124m\"\u001B[39m)  \n\u001B[0;32m     10\u001B[0m \u001B[38;5;66;03m# Split data into features (X) and target (y)\u001B[39;00m\n\u001B[1;32m---> 11\u001B[0m X \u001B[38;5;241m=\u001B[39m \u001B[43mdataset\u001B[49m\u001B[38;5;241;43m.\u001B[39;49m\u001B[43mdrop\u001B[49m\u001B[43m(\u001B[49m\u001B[43mcolumns\u001B[49m\u001B[38;5;241;43m=\u001B[39;49m\u001B[43m[\u001B[49m\u001B[38;5;124;43m\"\u001B[39;49m\u001B[38;5;124;43mprognosis\u001B[39;49m\u001B[38;5;124;43m\"\u001B[39;49m\u001B[43m]\u001B[49m\u001B[43m)\u001B[49m  \u001B[38;5;66;03m# Drop the target column\u001B[39;00m\n\u001B[0;32m     12\u001B[0m y \u001B[38;5;241m=\u001B[39m dataset[\u001B[38;5;124m\"\u001B[39m\u001B[38;5;124mprognosis\u001B[39m\u001B[38;5;124m\"\u001B[39m]\n\u001B[0;32m     14\u001B[0m \u001B[38;5;66;03m# Split into training and testing sets (80% train, 20% test)\u001B[39;00m\n",
      "File \u001B[1;32m~\\AppData\\Local\\Programs\\Python\\Python311\\Lib\\site-packages\\pandas\\core\\frame.py:5581\u001B[0m, in \u001B[0;36mDataFrame.drop\u001B[1;34m(self, labels, axis, index, columns, level, inplace, errors)\u001B[0m\n\u001B[0;32m   5433\u001B[0m \u001B[38;5;28;01mdef\u001B[39;00m \u001B[38;5;21mdrop\u001B[39m(\n\u001B[0;32m   5434\u001B[0m     \u001B[38;5;28mself\u001B[39m,\n\u001B[0;32m   5435\u001B[0m     labels: IndexLabel \u001B[38;5;241m|\u001B[39m \u001B[38;5;28;01mNone\u001B[39;00m \u001B[38;5;241m=\u001B[39m \u001B[38;5;28;01mNone\u001B[39;00m,\n\u001B[1;32m   (...)\u001B[0m\n\u001B[0;32m   5442\u001B[0m     errors: IgnoreRaise \u001B[38;5;241m=\u001B[39m \u001B[38;5;124m\"\u001B[39m\u001B[38;5;124mraise\u001B[39m\u001B[38;5;124m\"\u001B[39m,\n\u001B[0;32m   5443\u001B[0m ) \u001B[38;5;241m-\u001B[39m\u001B[38;5;241m>\u001B[39m DataFrame \u001B[38;5;241m|\u001B[39m \u001B[38;5;28;01mNone\u001B[39;00m:\n\u001B[0;32m   5444\u001B[0m \u001B[38;5;250m    \u001B[39m\u001B[38;5;124;03m\"\"\"\u001B[39;00m\n\u001B[0;32m   5445\u001B[0m \u001B[38;5;124;03m    Drop specified labels from rows or columns.\u001B[39;00m\n\u001B[0;32m   5446\u001B[0m \n\u001B[1;32m   (...)\u001B[0m\n\u001B[0;32m   5579\u001B[0m \u001B[38;5;124;03m            weight  1.0     0.8\u001B[39;00m\n\u001B[0;32m   5580\u001B[0m \u001B[38;5;124;03m    \"\"\"\u001B[39;00m\n\u001B[1;32m-> 5581\u001B[0m     \u001B[38;5;28;01mreturn\u001B[39;00m \u001B[38;5;28;43msuper\u001B[39;49m\u001B[43m(\u001B[49m\u001B[43m)\u001B[49m\u001B[38;5;241;43m.\u001B[39;49m\u001B[43mdrop\u001B[49m\u001B[43m(\u001B[49m\n\u001B[0;32m   5582\u001B[0m \u001B[43m        \u001B[49m\u001B[43mlabels\u001B[49m\u001B[38;5;241;43m=\u001B[39;49m\u001B[43mlabels\u001B[49m\u001B[43m,\u001B[49m\n\u001B[0;32m   5583\u001B[0m \u001B[43m        \u001B[49m\u001B[43maxis\u001B[49m\u001B[38;5;241;43m=\u001B[39;49m\u001B[43maxis\u001B[49m\u001B[43m,\u001B[49m\n\u001B[0;32m   5584\u001B[0m \u001B[43m        \u001B[49m\u001B[43mindex\u001B[49m\u001B[38;5;241;43m=\u001B[39;49m\u001B[43mindex\u001B[49m\u001B[43m,\u001B[49m\n\u001B[0;32m   5585\u001B[0m \u001B[43m        \u001B[49m\u001B[43mcolumns\u001B[49m\u001B[38;5;241;43m=\u001B[39;49m\u001B[43mcolumns\u001B[49m\u001B[43m,\u001B[49m\n\u001B[0;32m   5586\u001B[0m \u001B[43m        \u001B[49m\u001B[43mlevel\u001B[49m\u001B[38;5;241;43m=\u001B[39;49m\u001B[43mlevel\u001B[49m\u001B[43m,\u001B[49m\n\u001B[0;32m   5587\u001B[0m \u001B[43m        \u001B[49m\u001B[43minplace\u001B[49m\u001B[38;5;241;43m=\u001B[39;49m\u001B[43minplace\u001B[49m\u001B[43m,\u001B[49m\n\u001B[0;32m   5588\u001B[0m \u001B[43m        \u001B[49m\u001B[43merrors\u001B[49m\u001B[38;5;241;43m=\u001B[39;49m\u001B[43merrors\u001B[49m\u001B[43m,\u001B[49m\n\u001B[0;32m   5589\u001B[0m \u001B[43m    \u001B[49m\u001B[43m)\u001B[49m\n",
      "File \u001B[1;32m~\\AppData\\Local\\Programs\\Python\\Python311\\Lib\\site-packages\\pandas\\core\\generic.py:4788\u001B[0m, in \u001B[0;36mNDFrame.drop\u001B[1;34m(self, labels, axis, index, columns, level, inplace, errors)\u001B[0m\n\u001B[0;32m   4786\u001B[0m \u001B[38;5;28;01mfor\u001B[39;00m axis, labels \u001B[38;5;129;01min\u001B[39;00m axes\u001B[38;5;241m.\u001B[39mitems():\n\u001B[0;32m   4787\u001B[0m     \u001B[38;5;28;01mif\u001B[39;00m labels \u001B[38;5;129;01mis\u001B[39;00m \u001B[38;5;129;01mnot\u001B[39;00m \u001B[38;5;28;01mNone\u001B[39;00m:\n\u001B[1;32m-> 4788\u001B[0m         obj \u001B[38;5;241m=\u001B[39m \u001B[43mobj\u001B[49m\u001B[38;5;241;43m.\u001B[39;49m\u001B[43m_drop_axis\u001B[49m\u001B[43m(\u001B[49m\u001B[43mlabels\u001B[49m\u001B[43m,\u001B[49m\u001B[43m \u001B[49m\u001B[43maxis\u001B[49m\u001B[43m,\u001B[49m\u001B[43m \u001B[49m\u001B[43mlevel\u001B[49m\u001B[38;5;241;43m=\u001B[39;49m\u001B[43mlevel\u001B[49m\u001B[43m,\u001B[49m\u001B[43m \u001B[49m\u001B[43merrors\u001B[49m\u001B[38;5;241;43m=\u001B[39;49m\u001B[43merrors\u001B[49m\u001B[43m)\u001B[49m\n\u001B[0;32m   4790\u001B[0m \u001B[38;5;28;01mif\u001B[39;00m inplace:\n\u001B[0;32m   4791\u001B[0m     \u001B[38;5;28mself\u001B[39m\u001B[38;5;241m.\u001B[39m_update_inplace(obj)\n",
      "File \u001B[1;32m~\\AppData\\Local\\Programs\\Python\\Python311\\Lib\\site-packages\\pandas\\core\\generic.py:4830\u001B[0m, in \u001B[0;36mNDFrame._drop_axis\u001B[1;34m(self, labels, axis, level, errors, only_slice)\u001B[0m\n\u001B[0;32m   4828\u001B[0m         new_axis \u001B[38;5;241m=\u001B[39m axis\u001B[38;5;241m.\u001B[39mdrop(labels, level\u001B[38;5;241m=\u001B[39mlevel, errors\u001B[38;5;241m=\u001B[39merrors)\n\u001B[0;32m   4829\u001B[0m     \u001B[38;5;28;01melse\u001B[39;00m:\n\u001B[1;32m-> 4830\u001B[0m         new_axis \u001B[38;5;241m=\u001B[39m \u001B[43maxis\u001B[49m\u001B[38;5;241;43m.\u001B[39;49m\u001B[43mdrop\u001B[49m\u001B[43m(\u001B[49m\u001B[43mlabels\u001B[49m\u001B[43m,\u001B[49m\u001B[43m \u001B[49m\u001B[43merrors\u001B[49m\u001B[38;5;241;43m=\u001B[39;49m\u001B[43merrors\u001B[49m\u001B[43m)\u001B[49m\n\u001B[0;32m   4831\u001B[0m     indexer \u001B[38;5;241m=\u001B[39m axis\u001B[38;5;241m.\u001B[39mget_indexer(new_axis)\n\u001B[0;32m   4833\u001B[0m \u001B[38;5;66;03m# Case for non-unique axis\u001B[39;00m\n\u001B[0;32m   4834\u001B[0m \u001B[38;5;28;01melse\u001B[39;00m:\n",
      "File \u001B[1;32m~\\AppData\\Local\\Programs\\Python\\Python311\\Lib\\site-packages\\pandas\\core\\indexes\\base.py:7070\u001B[0m, in \u001B[0;36mIndex.drop\u001B[1;34m(self, labels, errors)\u001B[0m\n\u001B[0;32m   7068\u001B[0m \u001B[38;5;28;01mif\u001B[39;00m mask\u001B[38;5;241m.\u001B[39many():\n\u001B[0;32m   7069\u001B[0m     \u001B[38;5;28;01mif\u001B[39;00m errors \u001B[38;5;241m!=\u001B[39m \u001B[38;5;124m\"\u001B[39m\u001B[38;5;124mignore\u001B[39m\u001B[38;5;124m\"\u001B[39m:\n\u001B[1;32m-> 7070\u001B[0m         \u001B[38;5;28;01mraise\u001B[39;00m \u001B[38;5;167;01mKeyError\u001B[39;00m(\u001B[38;5;124mf\u001B[39m\u001B[38;5;124m\"\u001B[39m\u001B[38;5;132;01m{\u001B[39;00mlabels[mask]\u001B[38;5;241m.\u001B[39mtolist()\u001B[38;5;132;01m}\u001B[39;00m\u001B[38;5;124m not found in axis\u001B[39m\u001B[38;5;124m\"\u001B[39m)\n\u001B[0;32m   7071\u001B[0m     indexer \u001B[38;5;241m=\u001B[39m indexer[\u001B[38;5;241m~\u001B[39mmask]\n\u001B[0;32m   7072\u001B[0m \u001B[38;5;28;01mreturn\u001B[39;00m \u001B[38;5;28mself\u001B[39m\u001B[38;5;241m.\u001B[39mdelete(indexer)\n",
      "\u001B[1;31mKeyError\u001B[0m: \"['prognosis'] not found in axis\""
     ]
    }
   ],
   "source": [
    "import pandas as pd\n",
    "import numpy as np\n",
    "from sklearn.model_selection import train_test_split, cross_val_score\n",
    "from sklearn.naive_bayes import MultinomialNB\n",
    "from sklearn.metrics import accuracy_score, classification_report, confusion_matrix\n",
    "\n",
    "# Load the dataset (assuming it's already preprocessed)\n",
    "dataset = pd.read_csv(\"your_cleaned_dataset.csv\")  \n",
    "\n",
    "# Split data into features (X) and target (y)\n",
    "X = dataset.drop(columns=[\"prognosis\"])  # Drop the target column\n",
    "y = dataset[\"prognosis\"]\n",
    "\n",
    "# Split into training and testing sets (80% train, 20% test)\n",
    "X_train, X_test, y_train, y_test = train_test_split(X, y, test_size=0.2, random_state=42)\n",
    "\n",
    "# Initialize Naive Bayes classifier\n",
    "model = MultinomialNB()\n",
    "\n",
    "# Train the model\n",
    "model.fit(X_train, y_train)\n",
    "\n",
    "# Predictions on test data\n",
    "y_pred = model.predict(X_test)\n",
    "\n",
    "# Evaluate performance\n",
    "accuracy = accuracy_score(y_test, y_pred)\n",
    "print(f\"Model Accuracy: {accuracy:.4f}\")\n",
    "\n",
    "# Detailed classification report\n",
    "print(\"\\nClassification Report:\\n\", classification_report(y_test, y_pred))\n",
    "\n",
    "# Confusion Matrix\n",
    "print(\"\\nConfusion Matrix:\\n\", confusion_matrix(y_test, y_pred))\n",
    "\n",
    "# Cross-validation to check model stability\n",
    "cv_scores = cross_val_score(model, X, y, cv=5)  # 5-fold cross-validation\n",
    "print(f\"\\nCross-validation scores: {cv_scores}\")\n",
    "print(f\"Mean Accuracy: {cv_scores.mean():.4f}\")\n",
    "print(f\"Standard Deviation: {cv_scores.std():.4f}\")\n"
   ]
  },
  {
   "cell_type": "code",
   "execution_count": 11,
   "id": "36971dfd-1244-4c35-9785-a2a32bc0c5e7",
   "metadata": {},
   "outputs": [
    {
     "name": "stdout",
     "output_type": "stream",
     "text": [
      "['.android', '.bash_history', '.cache', '.emulator_console_auth_token', '.expo', '.git', '.gitconfig', '.gradle', '.insomniac', '.ipynb_checkpoints', '.ipython', '.jdks', '.jupyter', '.lesshst', '.m2', '.ms-ad', '.node_repl_history', '.opera', '.skiko', '.TurboVPN', '.viminfo', '.vscode', 'about.html', 'ansel', 'app.py', 'AppData', 'Application Data', 'battery-report.html', 'bgimg.webp', 'blog.html', 'BrawlhallaReplays', 'c++', 'ccworkshop', 'contact.html', 'Contacts', 'Cookies', 'Creative Cloud Files Personal Account roypranav1234@gmail.com F2CF14AE5B703BB50A495E63@AdobeID', 'customer_clustering_data.csv', 'description.csv', 'Desktop', 'developer.html', 'diets.csv', 'Documents', 'download.jpeg', 'download.png', 'Downloads', 'Expense Calculator', 'Expense Calculator.zip', 'Favorites', 'healthcare-it.jpg', 'house.txt', 'IdeaProjects', 'images.jpeg', 'images.png', 'img.png', 'index.html', 'Links', 'Local Settings', 'login.html', 'logs', 'main.py', 'medications.csv', 'medicine recommendation system.ipynb', 'Music', 'My Documents', 'my-converted-project', 'NetHood', 'node_modules', 'npx', 'NTUSER.DAT', 'ntuser.dat.LOG1', 'ntuser.dat.LOG2', 'NTUSER.DAT{0f6e8413-d0fb-11ef-b91c-ca94c5446e17}.TM.blf', 'NTUSER.DAT{0f6e8413-d0fb-11ef-b91c-ca94c5446e17}.TMContainer00000000000000000001.regtrans-ms', 'NTUSER.DAT{0f6e8413-d0fb-11ef-b91c-ca94c5446e17}.TMContainer00000000000000000002.regtrans-ms', 'ntuser.ini', 'OneDrive', 'package-lock.json', 'package.json', 'Pictures', 'precautions_df.csv', 'PrintHood', 'README.md', 'Recent', 'Saved Games', 'Searches', 'SendTo', 'Start Menu', 'surname.txt', 'svc.pkl', 'Symptom-severity.csv', 'symtoms_df.csv', 'Templates', 'Training.csv', 'Untitled.ipynb', 'Untitled1.ipynb', 'Untitled2.ipynb', 'Untitled3.ipynb', 'Untitled4.ipynb', 'Untitled5.ipynb', 'Videos', 'workout_df.csv']\n"
     ]
    }
   ],
   "source": [
    "import os\n",
    "print(os.listdir())  # Check available files\n"
   ]
  },
  {
   "cell_type": "code",
   "execution_count": 12,
   "id": "9f8e607b-77c0-47be-b6e2-ebe03ee048f6",
   "metadata": {},
   "outputs": [
    {
     "name": "stdout",
     "output_type": "stream",
     "text": [
      "   itching  skin_rash  nodal_skin_eruptions  continuous_sneezing  shivering  \\\n",
      "0        1          1                     1                    0          0   \n",
      "1        0          1                     1                    0          0   \n",
      "2        1          0                     1                    0          0   \n",
      "3        1          1                     0                    0          0   \n",
      "4        1          1                     1                    0          0   \n",
      "\n",
      "   chills  joint_pain  stomach_pain  acidity  ulcers_on_tongue  ...  \\\n",
      "0       0           0             0        0                 0  ...   \n",
      "1       0           0             0        0                 0  ...   \n",
      "2       0           0             0        0                 0  ...   \n",
      "3       0           0             0        0                 0  ...   \n",
      "4       0           0             0        0                 0  ...   \n",
      "\n",
      "   blackheads  scurring  skin_peeling  silver_like_dusting  \\\n",
      "0           0         0             0                    0   \n",
      "1           0         0             0                    0   \n",
      "2           0         0             0                    0   \n",
      "3           0         0             0                    0   \n",
      "4           0         0             0                    0   \n",
      "\n",
      "   small_dents_in_nails  inflammatory_nails  blister  red_sore_around_nose  \\\n",
      "0                     0                   0        0                     0   \n",
      "1                     0                   0        0                     0   \n",
      "2                     0                   0        0                     0   \n",
      "3                     0                   0        0                     0   \n",
      "4                     0                   0        0                     0   \n",
      "\n",
      "   yellow_crust_ooze         prognosis  \n",
      "0                  0  Fungal infection  \n",
      "1                  0  Fungal infection  \n",
      "2                  0  Fungal infection  \n",
      "3                  0  Fungal infection  \n",
      "4                  0  Fungal infection  \n",
      "\n",
      "[5 rows x 133 columns]\n"
     ]
    }
   ],
   "source": [
    "import pandas as pd\n",
    "\n",
    "# Load the training dataset (replace with actual filename)\n",
    "dataset = pd.read_csv(\"training.csv\")\n",
    "\n",
    "# Display first few rows\n",
    "print(dataset.head())\n",
    "\n"
   ]
  },
  {
   "cell_type": "code",
   "execution_count": 13,
   "id": "721e45c1-535c-471d-9eba-0406f78cb555",
   "metadata": {},
   "outputs": [],
   "source": [
    "dataset = dataset.drop_duplicates()\n",
    "\n"
   ]
  },
  {
   "cell_type": "code",
   "execution_count": 14,
   "id": "25efa69b-c91a-4854-a90b-644b521b9821",
   "metadata": {},
   "outputs": [],
   "source": [
    "dataset = dataset.dropna()  # Drops rows with missing values\n",
    "# OR, fill missing values\n",
    "# dataset.fillna(method='ffill', inplace=True)  \n"
   ]
  },
  {
   "cell_type": "code",
   "execution_count": 15,
   "id": "5995a8ce-e471-4fd6-adf5-f51a13749375",
   "metadata": {},
   "outputs": [],
   "source": [
    "# Convert categorical columns to numeric (for machine learning)\n",
    "dataset = pd.get_dummies(dataset)\n"
   ]
  },
  {
   "cell_type": "code",
   "execution_count": 16,
   "id": "3613aca8-dc70-467c-a324-f5e487be7ce1",
   "metadata": {},
   "outputs": [
    {
     "name": "stdout",
     "output_type": "stream",
     "text": [
      "<class 'pandas.core.frame.DataFrame'>\n",
      "Index: 304 entries, 0 to 407\n",
      "Columns: 173 entries, itching to prognosis_hepatitis A\n",
      "dtypes: bool(41), int64(132)\n",
      "memory usage: 328.0 KB\n",
      "None\n",
      "   itching  skin_rash  nodal_skin_eruptions  continuous_sneezing  shivering  \\\n",
      "0        1          1                     1                    0          0   \n",
      "1        0          1                     1                    0          0   \n",
      "2        1          0                     1                    0          0   \n",
      "3        1          1                     0                    0          0   \n",
      "4        1          1                     1                    0          0   \n",
      "\n",
      "   chills  joint_pain  stomach_pain  acidity  ulcers_on_tongue  ...  \\\n",
      "0       0           0             0        0                 0  ...   \n",
      "1       0           0             0        0                 0  ...   \n",
      "2       0           0             0        0                 0  ...   \n",
      "3       0           0             0        0                 0  ...   \n",
      "4       0           0             0        0                 0  ...   \n",
      "\n",
      "   prognosis_Osteoarthristis  prognosis_Paralysis (brain hemorrhage)  \\\n",
      "0                      False                                   False   \n",
      "1                      False                                   False   \n",
      "2                      False                                   False   \n",
      "3                      False                                   False   \n",
      "4                      False                                   False   \n",
      "\n",
      "   prognosis_Peptic ulcer diseae  prognosis_Pneumonia  prognosis_Psoriasis  \\\n",
      "0                          False                False                False   \n",
      "1                          False                False                False   \n",
      "2                          False                False                False   \n",
      "3                          False                False                False   \n",
      "4                          False                False                False   \n",
      "\n",
      "   prognosis_Tuberculosis  prognosis_Typhoid  \\\n",
      "0                   False              False   \n",
      "1                   False              False   \n",
      "2                   False              False   \n",
      "3                   False              False   \n",
      "4                   False              False   \n",
      "\n",
      "   prognosis_Urinary tract infection  prognosis_Varicose veins  \\\n",
      "0                              False                     False   \n",
      "1                              False                     False   \n",
      "2                              False                     False   \n",
      "3                              False                     False   \n",
      "4                              False                     False   \n",
      "\n",
      "   prognosis_hepatitis A  \n",
      "0                  False  \n",
      "1                  False  \n",
      "2                  False  \n",
      "3                  False  \n",
      "4                  False  \n",
      "\n",
      "[5 rows x 173 columns]\n"
     ]
    }
   ],
   "source": [
    "print(dataset.info())  # Check column types and missing values\n",
    "print(dataset.head())  # Preview cleaned data\n"
   ]
  },
  {
   "cell_type": "code",
   "execution_count": 17,
   "id": "7315ecdf-4fd2-4202-bcdd-f16a8499942f",
   "metadata": {},
   "outputs": [
    {
     "name": "stdout",
     "output_type": "stream",
     "text": [
      "Cleaned dataset saved as 'your_cleaned_dataset.csv'.\n"
     ]
    }
   ],
   "source": [
    "dataset.to_csv(\"your_cleaned_dataset.csv\", index=False)\n",
    "print(\"Cleaned dataset saved as 'your_cleaned_dataset.csv'.\")\n"
   ]
  },
  {
   "cell_type": "code",
   "execution_count": 18,
   "id": "5a1789db-4b1b-4a27-b87b-7ff9e897d01e",
   "metadata": {},
   "outputs": [],
   "source": [
    "dataset = pd.read_csv(\"your_cleaned_dataset.csv\")\n"
   ]
  },
  {
   "cell_type": "code",
   "execution_count": 27,
   "id": "0e0f7d9a-7246-4993-b178-4e25d630a2b0",
   "metadata": {},
   "outputs": [
    {
     "ename": "KeyError",
     "evalue": "\"['prognosis'] not found in axis\"",
     "output_type": "error",
     "traceback": [
      "\u001B[1;31m---------------------------------------------------------------------------\u001B[0m",
      "\u001B[1;31mKeyError\u001B[0m                                  Traceback (most recent call last)",
      "Cell \u001B[1;32mIn[27], line 11\u001B[0m\n\u001B[0;32m      8\u001B[0m dataset \u001B[38;5;241m=\u001B[39m pd\u001B[38;5;241m.\u001B[39mread_csv(\u001B[38;5;124m\"\u001B[39m\u001B[38;5;124myour_cleaned_dataset.csv\u001B[39m\u001B[38;5;124m\"\u001B[39m)  \n\u001B[0;32m     10\u001B[0m \u001B[38;5;66;03m# Split data into features (X) and target (y)\u001B[39;00m\n\u001B[1;32m---> 11\u001B[0m X \u001B[38;5;241m=\u001B[39m \u001B[43mdataset\u001B[49m\u001B[38;5;241;43m.\u001B[39;49m\u001B[43mdrop\u001B[49m\u001B[43m(\u001B[49m\u001B[43mcolumns\u001B[49m\u001B[38;5;241;43m=\u001B[39;49m\u001B[43m[\u001B[49m\u001B[38;5;124;43m\"\u001B[39;49m\u001B[38;5;124;43mprognosis\u001B[39;49m\u001B[38;5;124;43m\"\u001B[39;49m\u001B[43m]\u001B[49m\u001B[43m)\u001B[49m  \u001B[38;5;66;03m# Drop the target column\u001B[39;00m\n\u001B[0;32m     12\u001B[0m y \u001B[38;5;241m=\u001B[39m dataset[\u001B[38;5;124m\"\u001B[39m\u001B[38;5;124mprognosis\u001B[39m\u001B[38;5;124m\"\u001B[39m]\n\u001B[0;32m     14\u001B[0m \u001B[38;5;66;03m# Split into training and testing sets (80% train, 20% test)\u001B[39;00m\n",
      "File \u001B[1;32m~\\AppData\\Local\\Programs\\Python\\Python311\\Lib\\site-packages\\pandas\\core\\frame.py:5581\u001B[0m, in \u001B[0;36mDataFrame.drop\u001B[1;34m(self, labels, axis, index, columns, level, inplace, errors)\u001B[0m\n\u001B[0;32m   5433\u001B[0m \u001B[38;5;28;01mdef\u001B[39;00m \u001B[38;5;21mdrop\u001B[39m(\n\u001B[0;32m   5434\u001B[0m     \u001B[38;5;28mself\u001B[39m,\n\u001B[0;32m   5435\u001B[0m     labels: IndexLabel \u001B[38;5;241m|\u001B[39m \u001B[38;5;28;01mNone\u001B[39;00m \u001B[38;5;241m=\u001B[39m \u001B[38;5;28;01mNone\u001B[39;00m,\n\u001B[1;32m   (...)\u001B[0m\n\u001B[0;32m   5442\u001B[0m     errors: IgnoreRaise \u001B[38;5;241m=\u001B[39m \u001B[38;5;124m\"\u001B[39m\u001B[38;5;124mraise\u001B[39m\u001B[38;5;124m\"\u001B[39m,\n\u001B[0;32m   5443\u001B[0m ) \u001B[38;5;241m-\u001B[39m\u001B[38;5;241m>\u001B[39m DataFrame \u001B[38;5;241m|\u001B[39m \u001B[38;5;28;01mNone\u001B[39;00m:\n\u001B[0;32m   5444\u001B[0m \u001B[38;5;250m    \u001B[39m\u001B[38;5;124;03m\"\"\"\u001B[39;00m\n\u001B[0;32m   5445\u001B[0m \u001B[38;5;124;03m    Drop specified labels from rows or columns.\u001B[39;00m\n\u001B[0;32m   5446\u001B[0m \n\u001B[1;32m   (...)\u001B[0m\n\u001B[0;32m   5579\u001B[0m \u001B[38;5;124;03m            weight  1.0     0.8\u001B[39;00m\n\u001B[0;32m   5580\u001B[0m \u001B[38;5;124;03m    \"\"\"\u001B[39;00m\n\u001B[1;32m-> 5581\u001B[0m     \u001B[38;5;28;01mreturn\u001B[39;00m \u001B[38;5;28;43msuper\u001B[39;49m\u001B[43m(\u001B[49m\u001B[43m)\u001B[49m\u001B[38;5;241;43m.\u001B[39;49m\u001B[43mdrop\u001B[49m\u001B[43m(\u001B[49m\n\u001B[0;32m   5582\u001B[0m \u001B[43m        \u001B[49m\u001B[43mlabels\u001B[49m\u001B[38;5;241;43m=\u001B[39;49m\u001B[43mlabels\u001B[49m\u001B[43m,\u001B[49m\n\u001B[0;32m   5583\u001B[0m \u001B[43m        \u001B[49m\u001B[43maxis\u001B[49m\u001B[38;5;241;43m=\u001B[39;49m\u001B[43maxis\u001B[49m\u001B[43m,\u001B[49m\n\u001B[0;32m   5584\u001B[0m \u001B[43m        \u001B[49m\u001B[43mindex\u001B[49m\u001B[38;5;241;43m=\u001B[39;49m\u001B[43mindex\u001B[49m\u001B[43m,\u001B[49m\n\u001B[0;32m   5585\u001B[0m \u001B[43m        \u001B[49m\u001B[43mcolumns\u001B[49m\u001B[38;5;241;43m=\u001B[39;49m\u001B[43mcolumns\u001B[49m\u001B[43m,\u001B[49m\n\u001B[0;32m   5586\u001B[0m \u001B[43m        \u001B[49m\u001B[43mlevel\u001B[49m\u001B[38;5;241;43m=\u001B[39;49m\u001B[43mlevel\u001B[49m\u001B[43m,\u001B[49m\n\u001B[0;32m   5587\u001B[0m \u001B[43m        \u001B[49m\u001B[43minplace\u001B[49m\u001B[38;5;241;43m=\u001B[39;49m\u001B[43minplace\u001B[49m\u001B[43m,\u001B[49m\n\u001B[0;32m   5588\u001B[0m \u001B[43m        \u001B[49m\u001B[43merrors\u001B[49m\u001B[38;5;241;43m=\u001B[39;49m\u001B[43merrors\u001B[49m\u001B[43m,\u001B[49m\n\u001B[0;32m   5589\u001B[0m \u001B[43m    \u001B[49m\u001B[43m)\u001B[49m\n",
      "File \u001B[1;32m~\\AppData\\Local\\Programs\\Python\\Python311\\Lib\\site-packages\\pandas\\core\\generic.py:4788\u001B[0m, in \u001B[0;36mNDFrame.drop\u001B[1;34m(self, labels, axis, index, columns, level, inplace, errors)\u001B[0m\n\u001B[0;32m   4786\u001B[0m \u001B[38;5;28;01mfor\u001B[39;00m axis, labels \u001B[38;5;129;01min\u001B[39;00m axes\u001B[38;5;241m.\u001B[39mitems():\n\u001B[0;32m   4787\u001B[0m     \u001B[38;5;28;01mif\u001B[39;00m labels \u001B[38;5;129;01mis\u001B[39;00m \u001B[38;5;129;01mnot\u001B[39;00m \u001B[38;5;28;01mNone\u001B[39;00m:\n\u001B[1;32m-> 4788\u001B[0m         obj \u001B[38;5;241m=\u001B[39m \u001B[43mobj\u001B[49m\u001B[38;5;241;43m.\u001B[39;49m\u001B[43m_drop_axis\u001B[49m\u001B[43m(\u001B[49m\u001B[43mlabels\u001B[49m\u001B[43m,\u001B[49m\u001B[43m \u001B[49m\u001B[43maxis\u001B[49m\u001B[43m,\u001B[49m\u001B[43m \u001B[49m\u001B[43mlevel\u001B[49m\u001B[38;5;241;43m=\u001B[39;49m\u001B[43mlevel\u001B[49m\u001B[43m,\u001B[49m\u001B[43m \u001B[49m\u001B[43merrors\u001B[49m\u001B[38;5;241;43m=\u001B[39;49m\u001B[43merrors\u001B[49m\u001B[43m)\u001B[49m\n\u001B[0;32m   4790\u001B[0m \u001B[38;5;28;01mif\u001B[39;00m inplace:\n\u001B[0;32m   4791\u001B[0m     \u001B[38;5;28mself\u001B[39m\u001B[38;5;241m.\u001B[39m_update_inplace(obj)\n",
      "File \u001B[1;32m~\\AppData\\Local\\Programs\\Python\\Python311\\Lib\\site-packages\\pandas\\core\\generic.py:4830\u001B[0m, in \u001B[0;36mNDFrame._drop_axis\u001B[1;34m(self, labels, axis, level, errors, only_slice)\u001B[0m\n\u001B[0;32m   4828\u001B[0m         new_axis \u001B[38;5;241m=\u001B[39m axis\u001B[38;5;241m.\u001B[39mdrop(labels, level\u001B[38;5;241m=\u001B[39mlevel, errors\u001B[38;5;241m=\u001B[39merrors)\n\u001B[0;32m   4829\u001B[0m     \u001B[38;5;28;01melse\u001B[39;00m:\n\u001B[1;32m-> 4830\u001B[0m         new_axis \u001B[38;5;241m=\u001B[39m \u001B[43maxis\u001B[49m\u001B[38;5;241;43m.\u001B[39;49m\u001B[43mdrop\u001B[49m\u001B[43m(\u001B[49m\u001B[43mlabels\u001B[49m\u001B[43m,\u001B[49m\u001B[43m \u001B[49m\u001B[43merrors\u001B[49m\u001B[38;5;241;43m=\u001B[39;49m\u001B[43merrors\u001B[49m\u001B[43m)\u001B[49m\n\u001B[0;32m   4831\u001B[0m     indexer \u001B[38;5;241m=\u001B[39m axis\u001B[38;5;241m.\u001B[39mget_indexer(new_axis)\n\u001B[0;32m   4833\u001B[0m \u001B[38;5;66;03m# Case for non-unique axis\u001B[39;00m\n\u001B[0;32m   4834\u001B[0m \u001B[38;5;28;01melse\u001B[39;00m:\n",
      "File \u001B[1;32m~\\AppData\\Local\\Programs\\Python\\Python311\\Lib\\site-packages\\pandas\\core\\indexes\\base.py:7070\u001B[0m, in \u001B[0;36mIndex.drop\u001B[1;34m(self, labels, errors)\u001B[0m\n\u001B[0;32m   7068\u001B[0m \u001B[38;5;28;01mif\u001B[39;00m mask\u001B[38;5;241m.\u001B[39many():\n\u001B[0;32m   7069\u001B[0m     \u001B[38;5;28;01mif\u001B[39;00m errors \u001B[38;5;241m!=\u001B[39m \u001B[38;5;124m\"\u001B[39m\u001B[38;5;124mignore\u001B[39m\u001B[38;5;124m\"\u001B[39m:\n\u001B[1;32m-> 7070\u001B[0m         \u001B[38;5;28;01mraise\u001B[39;00m \u001B[38;5;167;01mKeyError\u001B[39;00m(\u001B[38;5;124mf\u001B[39m\u001B[38;5;124m\"\u001B[39m\u001B[38;5;132;01m{\u001B[39;00mlabels[mask]\u001B[38;5;241m.\u001B[39mtolist()\u001B[38;5;132;01m}\u001B[39;00m\u001B[38;5;124m not found in axis\u001B[39m\u001B[38;5;124m\"\u001B[39m)\n\u001B[0;32m   7071\u001B[0m     indexer \u001B[38;5;241m=\u001B[39m indexer[\u001B[38;5;241m~\u001B[39mmask]\n\u001B[0;32m   7072\u001B[0m \u001B[38;5;28;01mreturn\u001B[39;00m \u001B[38;5;28mself\u001B[39m\u001B[38;5;241m.\u001B[39mdelete(indexer)\n",
      "\u001B[1;31mKeyError\u001B[0m: \"['prognosis'] not found in axis\""
     ]
    }
   ],
   "source": [
    "import pandas as pd\n",
    "import numpy as np\n",
    "from sklearn.model_selection import train_test_split, cross_val_score\n",
    "from sklearn.naive_bayes import MultinomialNB\n",
    "from sklearn.metrics import accuracy_score, classification_report, confusion_matrix\n",
    "\n",
    "# Load the dataset (assuming it's already preprocessed)\n",
    "dataset = pd.read_csv(\"your_cleaned_dataset.csv\")  \n",
    "\n",
    "# Split data into features (X) and target (y)\n",
    "X = dataset.drop(columns=[\"prognosis\"])  # Drop the target column\n",
    "y = dataset[\"prognosis\"]\n",
    "\n",
    "# Split into training and testing sets (80% train, 20% test)\n",
    "X_train, X_test, y_train, y_test = train_test_split(X, y, test_size=0.2, random_state=42)\n",
    "\n",
    "# Initialize Naive Bayes classifier\n",
    "model = MultinomialNB()\n",
    "\n",
    "# Train the model\n",
    "model.fit(X_train, y_train)\n",
    "\n",
    "# Predictions on test data\n",
    "y_pred = model.predict(X_test)\n",
    "\n",
    "# Evaluate performance\n",
    "accuracy = accuracy_score(y_test, y_pred)\n",
    "print(f\"Model Accuracy: {accuracy:.4f}\")\n",
    "\n",
    "# Detailed classification report\n",
    "print(\"\\nClassification Report:\\n\", classification_report(y_test, y_pred))\n",
    "\n",
    "# Confusion Matrix\n",
    "print(\"\\nConfusion Matrix:\\n\", confusion_matrix(y_test, y_pred))\n",
    "\n",
    "# Cross-validation to check model stability\n",
    "cv_scores = cross_val_score(model, X, y, cv=5)  # 5-fold cross-validation\n",
    "print(f\"\\nCross-validation scores: {cv_scores}\")\n",
    "print(f\"Mean Accuracy: {cv_scores.mean():.4f}\")\n",
    "print(f\"Standard Deviation: {cv_scores.std():.4f}\")"
   ]
  },
  {
   "cell_type": "code",
   "execution_count": 21,
   "id": "09622af0-e9ca-469e-a3dc-1da3776d6d85",
   "metadata": {},
   "outputs": [
    {
     "name": "stdout",
     "output_type": "stream",
     "text": [
      "Index(['itching', 'skin_rash', 'nodal_skin_eruptions', 'continuous_sneezing',\n",
      "       'shivering', 'chills', 'joint_pain', 'stomach_pain', 'acidity',\n",
      "       'ulcers_on_tongue',\n",
      "       ...\n",
      "       'prognosis_Osteoarthristis', 'prognosis_Paralysis (brain hemorrhage)',\n",
      "       'prognosis_Peptic ulcer diseae', 'prognosis_Pneumonia',\n",
      "       'prognosis_Psoriasis', 'prognosis_Tuberculosis', 'prognosis_Typhoid',\n",
      "       'prognosis_Urinary tract infection', 'prognosis_Varicose veins',\n",
      "       'prognosis_hepatitis A'],\n",
      "      dtype='object', length=173)\n"
     ]
    }
   ],
   "source": [
    "print(dataset.columns)\n"
   ]
  },
  {
   "cell_type": "code",
   "execution_count": 22,
   "id": "bd4bcb44-c6a5-4591-b633-e6073f1cae8c",
   "metadata": {},
   "outputs": [
    {
     "name": "stdout",
     "output_type": "stream",
     "text": [
      "   itching  skin_rash  nodal_skin_eruptions  continuous_sneezing  shivering  \\\n",
      "0        1          1                     1                    0          0   \n",
      "1        0          1                     1                    0          0   \n",
      "2        1          0                     1                    0          0   \n",
      "3        1          1                     0                    0          0   \n",
      "4        1          1                     1                    0          0   \n",
      "\n",
      "   chills  joint_pain  stomach_pain  acidity  ulcers_on_tongue  ...  \\\n",
      "0       0           0             0        0                 0  ...   \n",
      "1       0           0             0        0                 0  ...   \n",
      "2       0           0             0        0                 0  ...   \n",
      "3       0           0             0        0                 0  ...   \n",
      "4       0           0             0        0                 0  ...   \n",
      "\n",
      "   prognosis_Osteoarthristis  prognosis_Paralysis (brain hemorrhage)  \\\n",
      "0                      False                                   False   \n",
      "1                      False                                   False   \n",
      "2                      False                                   False   \n",
      "3                      False                                   False   \n",
      "4                      False                                   False   \n",
      "\n",
      "   prognosis_Peptic ulcer diseae  prognosis_Pneumonia  prognosis_Psoriasis  \\\n",
      "0                          False                False                False   \n",
      "1                          False                False                False   \n",
      "2                          False                False                False   \n",
      "3                          False                False                False   \n",
      "4                          False                False                False   \n",
      "\n",
      "   prognosis_Tuberculosis  prognosis_Typhoid  \\\n",
      "0                   False              False   \n",
      "1                   False              False   \n",
      "2                   False              False   \n",
      "3                   False              False   \n",
      "4                   False              False   \n",
      "\n",
      "   prognosis_Urinary tract infection  prognosis_Varicose veins  \\\n",
      "0                              False                     False   \n",
      "1                              False                     False   \n",
      "2                              False                     False   \n",
      "3                              False                     False   \n",
      "4                              False                     False   \n",
      "\n",
      "   prognosis_hepatitis A  \n",
      "0                  False  \n",
      "1                  False  \n",
      "2                  False  \n",
      "3                  False  \n",
      "4                  False  \n",
      "\n",
      "[5 rows x 173 columns]\n"
     ]
    }
   ],
   "source": [
    "print(dataset.head())\n"
   ]
  },
  {
   "cell_type": "code",
   "execution_count": 23,
   "id": "1b67f97d-9d27-484b-85e5-b471752d7fa7",
   "metadata": {},
   "outputs": [],
   "source": [
    "# Selecting feature columns (all except prognosis columns)\n",
    "X = dataset.drop(columns=[col for col in dataset.columns if col.startswith(\"prognosis_\")])\n",
    "\n",
    "# Selecting target columns (all prognosis columns)\n",
    "y = dataset[[col for col in dataset.columns if col.startswith(\"prognosis_\")]]\n"
   ]
  },
  {
   "cell_type": "code",
   "execution_count": 24,
   "id": "463a3ea0-059f-412a-b073-7558ff48fb52",
   "metadata": {},
   "outputs": [
    {
     "name": "stdout",
     "output_type": "stream",
     "text": [
      "Features (X): Index(['itching', 'skin_rash', 'nodal_skin_eruptions', 'continuous_sneezing',\n",
      "       'shivering', 'chills', 'joint_pain', 'stomach_pain', 'acidity',\n",
      "       'ulcers_on_tongue',\n",
      "       ...\n",
      "       'pus_filled_pimples', 'blackheads', 'scurring', 'skin_peeling',\n",
      "       'silver_like_dusting', 'small_dents_in_nails', 'inflammatory_nails',\n",
      "       'blister', 'red_sore_around_nose', 'yellow_crust_ooze'],\n",
      "      dtype='object', length=132)\n",
      "Target (y): Index(['prognosis_(vertigo) Paroymsal  Positional Vertigo', 'prognosis_AIDS',\n",
      "       'prognosis_Acne', 'prognosis_Alcoholic hepatitis', 'prognosis_Allergy',\n",
      "       'prognosis_Arthritis', 'prognosis_Bronchial Asthma',\n",
      "       'prognosis_Cervical spondylosis', 'prognosis_Chicken pox',\n",
      "       'prognosis_Chronic cholestasis', 'prognosis_Common Cold',\n",
      "       'prognosis_Dengue', 'prognosis_Diabetes ',\n",
      "       'prognosis_Dimorphic hemmorhoids(piles)', 'prognosis_Drug Reaction',\n",
      "       'prognosis_Fungal infection', 'prognosis_GERD',\n",
      "       'prognosis_Gastroenteritis', 'prognosis_Heart attack',\n",
      "       'prognosis_Hepatitis B', 'prognosis_Hepatitis C',\n",
      "       'prognosis_Hepatitis D', 'prognosis_Hepatitis E',\n",
      "       'prognosis_Hypertension ', 'prognosis_Hyperthyroidism',\n",
      "       'prognosis_Hypoglycemia', 'prognosis_Hypothyroidism',\n",
      "       'prognosis_Impetigo', 'prognosis_Jaundice', 'prognosis_Malaria',\n",
      "       'prognosis_Migraine', 'prognosis_Osteoarthristis',\n",
      "       'prognosis_Paralysis (brain hemorrhage)',\n",
      "       'prognosis_Peptic ulcer diseae', 'prognosis_Pneumonia',\n",
      "       'prognosis_Psoriasis', 'prognosis_Tuberculosis', 'prognosis_Typhoid',\n",
      "       'prognosis_Urinary tract infection', 'prognosis_Varicose veins',\n",
      "       'prognosis_hepatitis A'],\n",
      "      dtype='object')\n"
     ]
    }
   ],
   "source": [
    "print(\"Features (X):\", X.columns)\n",
    "print(\"Target (y):\", y.columns)\n"
   ]
  },
  {
   "cell_type": "code",
   "execution_count": 26,
   "id": "ed1cac0a-78e5-4a4d-be29-b1e6f6fe1764",
   "metadata": {},
   "outputs": [],
   "source": [
    "y = y.idxmax(axis=1)  # Converts one-hot back to class labels\n"
   ]
  },
  {
   "cell_type": "code",
   "execution_count": 28,
   "id": "b5ac8936-389f-40d3-aa66-8294c75b0160",
   "metadata": {},
   "outputs": [],
   "source": [
    "X = dataset.drop(columns=[col for col in dataset.columns if col.startswith(\"prognosis_\")])  # Features\n",
    "y = dataset.loc[:, dataset.columns.str.startswith(\"prognosis_\")]  # Target\n"
   ]
  },
  {
   "cell_type": "code",
   "execution_count": 30,
   "id": "93531fe9-a2cd-4e88-99fc-83e650223d51",
   "metadata": {},
   "outputs": [
    {
     "name": "stdout",
     "output_type": "stream",
     "text": [
      "Dataset Columns: Index(['itching', 'skin_rash', 'nodal_skin_eruptions', 'continuous_sneezing',\n",
      "       'shivering', 'chills', 'joint_pain', 'stomach_pain', 'acidity',\n",
      "       'ulcers_on_tongue',\n",
      "       ...\n",
      "       'prognosis_Osteoarthristis', 'prognosis_Paralysis (brain hemorrhage)',\n",
      "       'prognosis_Peptic ulcer diseae', 'prognosis_Pneumonia',\n",
      "       'prognosis_Psoriasis', 'prognosis_Tuberculosis', 'prognosis_Typhoid',\n",
      "       'prognosis_Urinary tract infection', 'prognosis_Varicose veins',\n",
      "       'prognosis_hepatitis A'],\n",
      "      dtype='object', length=173)\n",
      "Accuracy: 0.97\n",
      "\n",
      "Classification Report:\n",
      "                                                    precision    recall  f1-score   support\n",
      "\n",
      "prognosis_(vertigo) Paroymsal  Positional Vertigo       1.00      1.00      1.00         2\n",
      "                                   prognosis_AIDS       1.00      1.00      1.00         1\n",
      "                                   prognosis_Acne       1.00      1.00      1.00         3\n",
      "                    prognosis_Alcoholic hepatitis       1.00      1.00      1.00         1\n",
      "                                prognosis_Allergy       1.00      0.33      0.50         3\n",
      "                       prognosis_Bronchial Asthma       1.00      1.00      1.00         3\n",
      "                   prognosis_Cervical spondylosis       1.00      1.00      1.00         1\n",
      "                            prognosis_Chicken pox       1.00      1.00      1.00         3\n",
      "                    prognosis_Chronic cholestasis       1.00      1.00      1.00         2\n",
      "                            prognosis_Common Cold       0.00      0.00      0.00         0\n",
      "                                 prognosis_Dengue       1.00      1.00      1.00         3\n",
      "                              prognosis_Diabetes        1.00      1.00      1.00         2\n",
      "           prognosis_Dimorphic hemmorhoids(piles)       1.00      1.00      1.00         2\n",
      "                          prognosis_Drug Reaction       1.00      1.00      1.00         1\n",
      "                            prognosis_Hepatitis B       1.00      1.00      1.00         2\n",
      "                            prognosis_Hepatitis C       1.00      1.00      1.00         1\n",
      "                            prognosis_Hepatitis D       1.00      1.00      1.00         1\n",
      "                            prognosis_Hepatitis E       1.00      1.00      1.00         2\n",
      "                        prognosis_Hyperthyroidism       1.00      1.00      1.00         2\n",
      "                           prognosis_Hypoglycemia       1.00      1.00      1.00         3\n",
      "                         prognosis_Hypothyroidism       1.00      1.00      1.00         2\n",
      "                               prognosis_Impetigo       1.00      1.00      1.00         1\n",
      "                               prognosis_Jaundice       1.00      1.00      1.00         1\n",
      "                                prognosis_Malaria       1.00      1.00      1.00         2\n",
      "                               prognosis_Migraine       1.00      1.00      1.00         4\n",
      "           prognosis_Paralysis (brain hemorrhage)       1.00      1.00      1.00         1\n",
      "                    prognosis_Peptic ulcer diseae       1.00      1.00      1.00         1\n",
      "                              prognosis_Pneumonia       1.00      1.00      1.00         2\n",
      "                              prognosis_Psoriasis       1.00      1.00      1.00         1\n",
      "                           prognosis_Tuberculosis       1.00      1.00      1.00         2\n",
      "                prognosis_Urinary tract infection       1.00      1.00      1.00         1\n",
      "                         prognosis_Varicose veins       1.00      1.00      1.00         3\n",
      "                            prognosis_hepatitis A       1.00      1.00      1.00         2\n",
      "\n",
      "                                         accuracy                           0.97        61\n",
      "                                        macro avg       0.97      0.95      0.95        61\n",
      "                                     weighted avg       1.00      0.97      0.98        61\n",
      "\n",
      "\n",
      "Confusion Matrix:\n",
      " [[2 0 0 ... 0 0 0]\n",
      " [0 1 0 ... 0 0 0]\n",
      " [0 0 3 ... 0 0 0]\n",
      " ...\n",
      " [0 0 0 ... 1 0 0]\n",
      " [0 0 0 ... 0 3 0]\n",
      " [0 0 0 ... 0 0 2]]\n"
     ]
    },
    {
     "name": "stderr",
     "output_type": "stream",
     "text": [
      "C:\\Users\\ACER\\AppData\\Local\\Programs\\Python\\Python311\\Lib\\site-packages\\sklearn\\metrics\\_classification.py:1565: UndefinedMetricWarning: Recall is ill-defined and being set to 0.0 in labels with no true samples. Use `zero_division` parameter to control this behavior.\n",
      "  _warn_prf(average, modifier, f\"{metric.capitalize()} is\", len(result))\n",
      "C:\\Users\\ACER\\AppData\\Local\\Programs\\Python\\Python311\\Lib\\site-packages\\sklearn\\metrics\\_classification.py:1565: UndefinedMetricWarning: Recall is ill-defined and being set to 0.0 in labels with no true samples. Use `zero_division` parameter to control this behavior.\n",
      "  _warn_prf(average, modifier, f\"{metric.capitalize()} is\", len(result))\n",
      "C:\\Users\\ACER\\AppData\\Local\\Programs\\Python\\Python311\\Lib\\site-packages\\sklearn\\metrics\\_classification.py:1565: UndefinedMetricWarning: Recall is ill-defined and being set to 0.0 in labels with no true samples. Use `zero_division` parameter to control this behavior.\n",
      "  _warn_prf(average, modifier, f\"{metric.capitalize()} is\", len(result))\n"
     ]
    }
   ],
   "source": [
    "import pandas as pd\n",
    "from sklearn.model_selection import train_test_split\n",
    "from sklearn.naive_bayes import MultinomialNB\n",
    "from sklearn.metrics import accuracy_score, classification_report, confusion_matrix\n",
    "\n",
    "# Load the dataset\n",
    "dataset = pd.read_csv(\"your_cleaned_dataset.csv\")  \n",
    "\n",
    "# Print column names to verify\n",
    "print(\"Dataset Columns:\", dataset.columns)\n",
    "\n",
    "# Extract features (X) and target (y)\n",
    "X = dataset.drop(columns=[col for col in dataset.columns if col.startswith(\"prognosis_\")])  # Feature set\n",
    "y = dataset.loc[:, dataset.columns.str.startswith(\"prognosis_\")]  # One-hot encoded target\n",
    "\n",
    "# Convert one-hot encoded target back to single labels\n",
    "y = y.idxmax(axis=1)  # Get the disease name for each row\n",
    "\n",
    "# Split into training and testing sets (80% train, 20% test)\n",
    "X_train, X_test, y_train, y_test = train_test_split(X, y, test_size=0.2, random_state=42)\n",
    "\n",
    "# Initialize and train Naive Bayes classifier\n",
    "nb_classifier = MultinomialNB()\n",
    "nb_classifier.fit(X_train, y_train)  # ✅ Now y_train is a 1D array of labels\n",
    "\n",
    "# Predict on test data\n",
    "y_pred = nb_classifier.predict(X_test)\n",
    "\n",
    "# Evaluate model\n",
    "accuracy = accuracy_score(y_test, y_pred)\n",
    "print(f\"Accuracy: {accuracy:.2f}\")\n",
    "\n",
    "print(\"\\nClassification Report:\\n\", classification_report(y_test, y_pred))\n",
    "print(\"\\nConfusion Matrix:\\n\", confusion_matrix(y_test, y_pred))\n"
   ]
  },
  {
   "cell_type": "code",
   "execution_count": 31,
   "id": "daa9f8eb-6ef8-43a0-a14d-39879506be8f",
   "metadata": {},
   "outputs": [
    {
     "name": "stdout",
     "output_type": "stream",
     "text": [
      "Accuracy: 0.97\n",
      "\n",
      "Classification Report:\n",
      "               precision    recall  f1-score   support\n",
      "\n",
      "           0       1.00      1.00      1.00         1\n",
      "           1       1.00      1.00      1.00         1\n",
      "           2       1.00      1.00      1.00         1\n",
      "           3       1.00      1.00      1.00         2\n",
      "           4       1.00      1.00      1.00         1\n",
      "           5       1.00      1.00      1.00         1\n",
      "           6       1.00      1.00      1.00         1\n",
      "           7       1.00      1.00      1.00         1\n",
      "           8       1.00      1.00      1.00         2\n",
      "           9       1.00      0.50      0.67         2\n",
      "          10       1.00      1.00      1.00         2\n",
      "          11       1.00      1.00      1.00         2\n",
      "          12       1.00      1.00      1.00         2\n",
      "          13       1.00      1.00      1.00         1\n",
      "          14       1.00      1.00      1.00         1\n",
      "          15       1.00      1.00      1.00         1\n",
      "          16       1.00      1.00      1.00         1\n",
      "          17       1.00      1.00      1.00         1\n",
      "          18       0.00      0.00      0.00         1\n",
      "          19       1.00      1.00      1.00         2\n",
      "          20       1.00      1.00      1.00         1\n",
      "          21       0.67      1.00      0.80         2\n",
      "          22       1.00      1.00      1.00         2\n",
      "          23       1.00      1.00      1.00         1\n",
      "          24       1.00      1.00      1.00         2\n",
      "          25       1.00      1.00      1.00         2\n",
      "          26       1.00      1.00      1.00         2\n",
      "          27       1.00      1.00      1.00         1\n",
      "          28       1.00      1.00      1.00         2\n",
      "          29       1.00      1.00      1.00         2\n",
      "          30       1.00      1.00      1.00         2\n",
      "          31       1.00      1.00      1.00         1\n",
      "          32       1.00      1.00      1.00         1\n",
      "          33       1.00      1.00      1.00         1\n",
      "          34       1.00      1.00      1.00         2\n",
      "          35       1.00      1.00      1.00         1\n",
      "          36       0.67      1.00      0.80         2\n",
      "          37       1.00      1.00      1.00         2\n",
      "          38       1.00      1.00      1.00         1\n",
      "          39       1.00      1.00      1.00         2\n",
      "          40       1.00      1.00      1.00         2\n",
      "\n",
      "    accuracy                           0.97        61\n",
      "   macro avg       0.96      0.96      0.96        61\n",
      "weighted avg       0.96      0.97      0.96        61\n",
      "\n",
      "\n",
      "Confusion Matrix:\n",
      " [[1 0 0 ... 0 0 0]\n",
      " [0 1 0 ... 0 0 0]\n",
      " [0 0 1 ... 0 0 0]\n",
      " ...\n",
      " [0 0 0 ... 1 0 0]\n",
      " [0 0 0 ... 0 2 0]\n",
      " [0 0 0 ... 0 0 2]]\n"
     ]
    },
    {
     "name": "stderr",
     "output_type": "stream",
     "text": [
      "C:\\Users\\ACER\\AppData\\Local\\Programs\\Python\\Python311\\Lib\\site-packages\\sklearn\\metrics\\_classification.py:1565: UndefinedMetricWarning: Precision is ill-defined and being set to 0.0 in labels with no predicted samples. Use `zero_division` parameter to control this behavior.\n",
      "  _warn_prf(average, modifier, f\"{metric.capitalize()} is\", len(result))\n",
      "C:\\Users\\ACER\\AppData\\Local\\Programs\\Python\\Python311\\Lib\\site-packages\\sklearn\\metrics\\_classification.py:1565: UndefinedMetricWarning: Precision is ill-defined and being set to 0.0 in labels with no predicted samples. Use `zero_division` parameter to control this behavior.\n",
      "  _warn_prf(average, modifier, f\"{metric.capitalize()} is\", len(result))\n",
      "C:\\Users\\ACER\\AppData\\Local\\Programs\\Python\\Python311\\Lib\\site-packages\\sklearn\\metrics\\_classification.py:1565: UndefinedMetricWarning: Precision is ill-defined and being set to 0.0 in labels with no predicted samples. Use `zero_division` parameter to control this behavior.\n",
      "  _warn_prf(average, modifier, f\"{metric.capitalize()} is\", len(result))\n"
     ]
    }
   ],
   "source": [
    "import pandas as pd\n",
    "import numpy as np\n",
    "from sklearn.model_selection import train_test_split\n",
    "from sklearn.naive_bayes import MultinomialNB\n",
    "from sklearn.metrics import accuracy_score, classification_report, confusion_matrix\n",
    "\n",
    "# Load dataset\n",
    "dataset = pd.read_csv(\"your_cleaned_dataset.csv\")\n",
    "\n",
    "# Separate features and target\n",
    "X = dataset.drop(columns=[col for col in dataset.columns if col.startswith(\"prognosis_\")])\n",
    "y = dataset[[col for col in dataset.columns if col.startswith(\"prognosis_\")]]\n",
    "\n",
    "# Ensure y is a 1D array by converting one-hot encoded target into categorical labels\n",
    "y = np.argmax(y.values, axis=1)\n",
    "\n",
    "# Split into training and testing sets (80% train, 20% test)\n",
    "X_train, X_test, y_train, y_test = train_test_split(X, y, test_size=0.2, stratify=y, random_state=42)\n",
    "\n",
    "# Initialize and train Naive Bayes classifier\n",
    "nb_classifier = MultinomialNB()\n",
    "nb_classifier.fit(X_train, y_train)\n",
    "\n",
    "# Predict on test data\n",
    "y_pred = nb_classifier.predict(X_test)\n",
    "\n",
    "# Evaluate model\n",
    "accuracy = accuracy_score(y_test, y_pred)\n",
    "print(f\"Accuracy: {accuracy:.2f}\")\n",
    "print(\"\\nClassification Report:\\n\", classification_report(y_test, y_pred))\n",
    "print(\"\\nConfusion Matrix:\\n\", confusion_matrix(y_test, y_pred))"
   ]
  },
  {
   "cell_type": "code",
   "execution_count": 32,
   "id": "aad21bc0-3aba-417c-92bd-b43648429110",
   "metadata": {},
   "outputs": [
    {
     "ename": "NameError",
     "evalue": "name 'model' is not defined",
     "output_type": "error",
     "traceback": [
      "\u001B[1;31m---------------------------------------------------------------------------\u001B[0m",
      "\u001B[1;31mNameError\u001B[0m                                 Traceback (most recent call last)",
      "Cell \u001B[1;32mIn[32], line 4\u001B[0m\n\u001B[0;32m      1\u001B[0m \u001B[38;5;28;01mfrom\u001B[39;00m \u001B[38;5;21;01msklearn\u001B[39;00m\u001B[38;5;21;01m.\u001B[39;00m\u001B[38;5;21;01mmodel_selection\u001B[39;00m \u001B[38;5;28;01mimport\u001B[39;00m StratifiedKFold, cross_val_score\n\u001B[0;32m      3\u001B[0m skf \u001B[38;5;241m=\u001B[39m StratifiedKFold(n_splits\u001B[38;5;241m=\u001B[39m\u001B[38;5;241m10\u001B[39m, shuffle\u001B[38;5;241m=\u001B[39m\u001B[38;5;28;01mTrue\u001B[39;00m, random_state\u001B[38;5;241m=\u001B[39m\u001B[38;5;241m42\u001B[39m)\n\u001B[1;32m----> 4\u001B[0m scores \u001B[38;5;241m=\u001B[39m cross_val_score(\u001B[43mmodel\u001B[49m, X, y, cv\u001B[38;5;241m=\u001B[39mskf, scoring\u001B[38;5;241m=\u001B[39m\u001B[38;5;124m'\u001B[39m\u001B[38;5;124maccuracy\u001B[39m\u001B[38;5;124m'\u001B[39m)\n\u001B[0;32m      6\u001B[0m \u001B[38;5;28mprint\u001B[39m(\u001B[38;5;124mf\u001B[39m\u001B[38;5;124m\"\u001B[39m\u001B[38;5;124mMean Accuracy: \u001B[39m\u001B[38;5;132;01m{\u001B[39;00mscores\u001B[38;5;241m.\u001B[39mmean()\u001B[38;5;132;01m:\u001B[39;00m\u001B[38;5;124m.4f\u001B[39m\u001B[38;5;132;01m}\u001B[39;00m\u001B[38;5;124m\"\u001B[39m)\n\u001B[0;32m      7\u001B[0m \u001B[38;5;28mprint\u001B[39m(\u001B[38;5;124mf\u001B[39m\u001B[38;5;124m\"\u001B[39m\u001B[38;5;124mStandard Deviation: \u001B[39m\u001B[38;5;132;01m{\u001B[39;00mscores\u001B[38;5;241m.\u001B[39mstd()\u001B[38;5;132;01m:\u001B[39;00m\u001B[38;5;124m.4f\u001B[39m\u001B[38;5;132;01m}\u001B[39;00m\u001B[38;5;124m\"\u001B[39m)\n",
      "\u001B[1;31mNameError\u001B[0m: name 'model' is not defined"
     ]
    }
   ],
   "source": [
    "from sklearn.model_selection import StratifiedKFold, cross_val_score\n",
    "\n",
    "skf = StratifiedKFold(n_splits=10, shuffle=True, random_state=42)\n",
    "scores = cross_val_score(model, X, y, cv=skf, scoring='accuracy')\n",
    "\n",
    "print(f\"Mean Accuracy: {scores.mean():.4f}\")\n",
    "print(f\"Standard Deviation: {scores.std():.4f}\")\n"
   ]
  },
  {
   "cell_type": "code",
   "execution_count": 33,
   "id": "85251710-20ba-4a49-9e9f-ed66de6e64b7",
   "metadata": {},
   "outputs": [
    {
     "ename": "NameError",
     "evalue": "name 'model' is not defined",
     "output_type": "error",
     "traceback": [
      "\u001B[1;31m---------------------------------------------------------------------------\u001B[0m",
      "\u001B[1;31mNameError\u001B[0m                                 Traceback (most recent call last)",
      "Cell \u001B[1;32mIn[33], line 4\u001B[0m\n\u001B[0;32m      1\u001B[0m \u001B[38;5;28;01mfrom\u001B[39;00m \u001B[38;5;21;01msklearn\u001B[39;00m\u001B[38;5;21;01m.\u001B[39;00m\u001B[38;5;21;01mmodel_selection\u001B[39;00m \u001B[38;5;28;01mimport\u001B[39;00m cross_validate\n\u001B[0;32m      3\u001B[0m scoring \u001B[38;5;241m=\u001B[39m [\u001B[38;5;124m'\u001B[39m\u001B[38;5;124maccuracy\u001B[39m\u001B[38;5;124m'\u001B[39m, \u001B[38;5;124m'\u001B[39m\u001B[38;5;124mprecision_macro\u001B[39m\u001B[38;5;124m'\u001B[39m, \u001B[38;5;124m'\u001B[39m\u001B[38;5;124mrecall_macro\u001B[39m\u001B[38;5;124m'\u001B[39m, \u001B[38;5;124m'\u001B[39m\u001B[38;5;124mf1_macro\u001B[39m\u001B[38;5;124m'\u001B[39m]\n\u001B[1;32m----> 4\u001B[0m scores \u001B[38;5;241m=\u001B[39m cross_validate(\u001B[43mmodel\u001B[49m, X, y, cv\u001B[38;5;241m=\u001B[39mskf, scoring\u001B[38;5;241m=\u001B[39mscoring)\n\u001B[0;32m      6\u001B[0m \u001B[38;5;28mprint\u001B[39m(\u001B[38;5;124mf\u001B[39m\u001B[38;5;124m\"\u001B[39m\u001B[38;5;124mAccuracy: \u001B[39m\u001B[38;5;132;01m{\u001B[39;00mscores[\u001B[38;5;124m'\u001B[39m\u001B[38;5;124mtest_accuracy\u001B[39m\u001B[38;5;124m'\u001B[39m]\u001B[38;5;241m.\u001B[39mmean()\u001B[38;5;132;01m:\u001B[39;00m\u001B[38;5;124m.4f\u001B[39m\u001B[38;5;132;01m}\u001B[39;00m\u001B[38;5;124m\"\u001B[39m)\n\u001B[0;32m      7\u001B[0m \u001B[38;5;28mprint\u001B[39m(\u001B[38;5;124mf\u001B[39m\u001B[38;5;124m\"\u001B[39m\u001B[38;5;124mPrecision: \u001B[39m\u001B[38;5;132;01m{\u001B[39;00mscores[\u001B[38;5;124m'\u001B[39m\u001B[38;5;124mtest_precision_macro\u001B[39m\u001B[38;5;124m'\u001B[39m]\u001B[38;5;241m.\u001B[39mmean()\u001B[38;5;132;01m:\u001B[39;00m\u001B[38;5;124m.4f\u001B[39m\u001B[38;5;132;01m}\u001B[39;00m\u001B[38;5;124m\"\u001B[39m)\n",
      "\u001B[1;31mNameError\u001B[0m: name 'model' is not defined"
     ]
    }
   ],
   "source": [
    "from sklearn.model_selection import cross_validate\n",
    "\n",
    "scoring = ['accuracy', 'precision_macro', 'recall_macro', 'f1_macro']\n",
    "scores = cross_validate(model, X, y, cv=skf, scoring=scoring)\n",
    "\n",
    "print(f\"Accuracy: {scores['test_accuracy'].mean():.4f}\")\n",
    "print(f\"Precision: {scores['test_precision_macro'].mean():.4f}\")\n",
    "print(f\"Recall: {scores['test_recall_macro'].mean():.4f}\")\n",
    "print(f\"F1 Score: {scores['test_f1_macro'].mean():.4f}\")\n"
   ]
  },
  {
   "cell_type": "code",
   "execution_count": 43,
   "id": "0bfde81d-a6dc-4288-8719-08aff386e3a6",
   "metadata": {},
   "outputs": [
    {
     "name": "stderr",
     "output_type": "stream",
     "text": [
      "C:\\Users\\ACER\\AppData\\Local\\Programs\\Python\\Python311\\Lib\\site-packages\\sklearn\\model_selection\\_split.py:805: UserWarning: The least populated class in y has only 2 members, which is less than n_splits=5.\n",
      "  warnings.warn(\n"
     ]
    },
    {
     "name": "stdout",
     "output_type": "stream",
     "text": [
      "Cross-Validation Accuracy: 1.0000\n",
      "✅ Model retrained with cross-validation and saved successfully!\n"
     ]
    }
   ],
   "source": [
    "import pandas as pd\n",
    "from sklearn.model_selection import train_test_split, cross_val_score\n",
    "from sklearn.preprocessing import LabelEncoder\n",
    "from sklearn.svm import SVC\n",
    "import pickle\n",
    "\n",
    "# Load the cleaned dataset\n",
    "df = pd.read_csv(\"your_cleaned_dataset.csv\")  # Ensure this is the correct path\n",
    "\n",
    "# Identify prognosis columns (those starting with 'prognosis_')\n",
    "prognosis_columns = [col for col in df.columns if col.startswith(\"prognosis_\")]\n",
    "\n",
    "if not prognosis_columns:\n",
    "    raise KeyError(\"No prognosis columns found! Ensure your dataset has the correct format.\")\n",
    "\n",
    "# Convert one-hot encoded prognosis back to a single categorical column\n",
    "df[\"Prognosis\"] = df[prognosis_columns].idxmax(axis=1).str.replace(\"prognosis_\", \"\")\n",
    "\n",
    "# Drop one-hot encoded columns after restoring 'Prognosis'\n",
    "df = df.drop(columns=prognosis_columns)\n",
    "\n",
    "# Separate features (X) and labels (y)\n",
    "X = df.drop(columns=[\"Prognosis\"])\n",
    "y = df[\"Prognosis\"]\n",
    "\n",
    "# Encode target labels (convert prognosis names to numerical values)\n",
    "label_encoder = LabelEncoder()\n",
    "y_encoded = label_encoder.fit_transform(y)\n",
    "\n",
    "# Split data into training and testing sets\n",
    "X_train, X_test, y_train, y_test = train_test_split(X, y_encoded, test_size=0.2, random_state=42)\n",
    "\n",
    "# Initialize SVC model\n",
    "svc = SVC(kernel='linear', probability=True)\n",
    "\n",
    "# Perform Cross-Validation\n",
    "cv_scores = cross_val_score(svc, X_train, y_train, cv=5)\n",
    "print(f\"Cross-Validation Accuracy: {cv_scores.mean():.4f}\")\n",
    "\n",
    "# Train the final model\n",
    "svc.fit(X_train, y_train)\n",
    "\n",
    "# Save the trained model\n",
    "with open(\"../svc.pkl\", \"wb\") as f:\n",
    "    pickle.dump(svc, f)\n",
    "\n",
    "# Save the label encoder for decoding predictions later\n",
    "with open(\"label_encoder.pkl\", \"wb\") as f:\n",
    "    pickle.dump(label_encoder, f)\n",
    "\n",
    "print(\"✅ Model retrained with cross-validation and saved successfully!\")\n"
   ]
  },
  {
   "cell_type": "code",
   "execution_count": 42,
   "id": "93068aef-d706-4f11-8f05-a042b194feeb",
   "metadata": {},
   "outputs": [
    {
     "name": "stderr",
     "output_type": "stream",
     "text": [
      "C:\\Users\\ACER\\AppData\\Local\\Programs\\Python\\Python311\\Lib\\site-packages\\sklearn\\model_selection\\_split.py:805: UserWarning: The least populated class in y has only 2 members, which is less than n_splits=5.\n",
      "  warnings.warn(\n"
     ]
    }
   ],
   "source": [
    "from sklearn.model_selection import StratifiedKFold\n",
    "\n",
    "cv = StratifiedKFold(n_splits=5, shuffle=True, random_state=42)\n",
    "cv_scores = cross_val_score(svc, X_train, y_train, cv=cv)\n"
   ]
  },
  {
   "cell_type": "code",
   "execution_count": 48,
   "id": "e9b52486-cb50-44e8-bab2-b296f20c4a81",
   "metadata": {},
   "outputs": [
    {
     "name": "stdout",
     "output_type": "stream",
     "text": [
      "Index(['itching', 'skin_rash', 'nodal_skin_eruptions', 'continuous_sneezing',\n",
      "       'shivering', 'chills', 'joint_pain', 'stomach_pain', 'acidity',\n",
      "       'ulcers_on_tongue',\n",
      "       ...\n",
      "       'prognosis_Osteoarthristis', 'prognosis_Paralysis (brain hemorrhage)',\n",
      "       'prognosis_Peptic ulcer diseae', 'prognosis_Pneumonia',\n",
      "       'prognosis_Psoriasis', 'prognosis_Tuberculosis', 'prognosis_Typhoid',\n",
      "       'prognosis_Urinary tract infection', 'prognosis_Varicose veins',\n",
      "       'prognosis_hepatitis A'],\n",
      "      dtype='object', length=173)\n"
     ]
    },
    {
     "ename": "KeyError",
     "evalue": "\"Column 'Prognosis' not found. Available columns: Index(['itching', 'skin_rash', 'nodal_skin_eruptions', 'continuous_sneezing',\\n       'shivering', 'chills', 'joint_pain', 'stomach_pain', 'acidity',\\n       'ulcers_on_tongue',\\n       ...\\n       'prognosis_Osteoarthristis', 'prognosis_Paralysis (brain hemorrhage)',\\n       'prognosis_Peptic ulcer diseae', 'prognosis_Pneumonia',\\n       'prognosis_Psoriasis', 'prognosis_Tuberculosis', 'prognosis_Typhoid',\\n       'prognosis_Urinary tract infection', 'prognosis_Varicose veins',\\n       'prognosis_hepatitis A'],\\n      dtype='object', length=173)\"",
     "output_type": "error",
     "traceback": [
      "\u001B[1;31m---------------------------------------------------------------------------\u001B[0m",
      "\u001B[1;31mKeyError\u001B[0m                                  Traceback (most recent call last)",
      "Cell \u001B[1;32mIn[48], line 15\u001B[0m\n\u001B[0;32m     12\u001B[0m target_column \u001B[38;5;241m=\u001B[39m \u001B[38;5;124m\"\u001B[39m\u001B[38;5;124mPrognosis\u001B[39m\u001B[38;5;124m\"\u001B[39m  \u001B[38;5;66;03m# Change if needed\u001B[39;00m\n\u001B[0;32m     14\u001B[0m \u001B[38;5;28;01mif\u001B[39;00m target_column \u001B[38;5;129;01mnot\u001B[39;00m \u001B[38;5;129;01min\u001B[39;00m df\u001B[38;5;241m.\u001B[39mcolumns:\n\u001B[1;32m---> 15\u001B[0m     \u001B[38;5;28;01mraise\u001B[39;00m \u001B[38;5;167;01mKeyError\u001B[39;00m(\u001B[38;5;124mf\u001B[39m\u001B[38;5;124m\"\u001B[39m\u001B[38;5;124mColumn \u001B[39m\u001B[38;5;124m'\u001B[39m\u001B[38;5;132;01m{\u001B[39;00mtarget_column\u001B[38;5;132;01m}\u001B[39;00m\u001B[38;5;124m'\u001B[39m\u001B[38;5;124m not found. Available columns: \u001B[39m\u001B[38;5;132;01m{\u001B[39;00mdf\u001B[38;5;241m.\u001B[39mcolumns\u001B[38;5;132;01m}\u001B[39;00m\u001B[38;5;124m\"\u001B[39m)\n\u001B[0;32m     17\u001B[0m \u001B[38;5;66;03m# Initialize LabelEncoder\u001B[39;00m\n\u001B[0;32m     18\u001B[0m le \u001B[38;5;241m=\u001B[39m LabelEncoder()\n",
      "\u001B[1;31mKeyError\u001B[0m: \"Column 'Prognosis' not found. Available columns: Index(['itching', 'skin_rash', 'nodal_skin_eruptions', 'continuous_sneezing',\\n       'shivering', 'chills', 'joint_pain', 'stomach_pain', 'acidity',\\n       'ulcers_on_tongue',\\n       ...\\n       'prognosis_Osteoarthristis', 'prognosis_Paralysis (brain hemorrhage)',\\n       'prognosis_Peptic ulcer diseae', 'prognosis_Pneumonia',\\n       'prognosis_Psoriasis', 'prognosis_Tuberculosis', 'prognosis_Typhoid',\\n       'prognosis_Urinary tract infection', 'prognosis_Varicose veins',\\n       'prognosis_hepatitis A'],\\n      dtype='object', length=173)\""
     ]
    }
   ],
   "source": [
    "import pickle\n",
    "import pandas as pd\n",
    "from sklearn.preprocessing import LabelEncoder\n",
    "\n",
    "# Load dataset\n",
    "df = pd.read_csv(\"your_cleaned_dataset.csv\")  # Update with actual path\n",
    "\n",
    "# Print available columns\n",
    "print(df.columns)\n",
    "\n",
    "# Find the correct column name (adjust based on encoding method)\n",
    "target_column = \"Prognosis\"  # Change if needed\n",
    "\n",
    "if target_column not in df.columns:\n",
    "    raise KeyError(f\"Column '{target_column}' not found. Available columns: {df.columns}\")\n",
    "\n",
    "# Initialize LabelEncoder\n",
    "le = LabelEncoder()\n",
    "\n",
    "# Fit on the 'Prognosis' column\n",
    "df[target_column] = le.fit_transform(df[target_column])\n",
    "\n",
    "# Save the trained LabelEncoder\n",
    "with open(\"label_encoder.pkl\", \"wb\") as f:\n",
    "    pickle.dump(le, f)\n",
    "\n",
    "print(\"✅ LabelEncoder saved successfully!\")\n"
   ]
  },
  {
   "cell_type": "code",
   "execution_count": 46,
   "id": "961fc2f4-f6c5-41a4-9e4a-22525e0f9ede",
   "metadata": {},
   "outputs": [
    {
     "ename": "FileNotFoundError",
     "evalue": "[Errno 2] No such file or directory: 'models/label_encoder.pkl'",
     "output_type": "error",
     "traceback": [
      "\u001B[1;31m---------------------------------------------------------------------------\u001B[0m",
      "\u001B[1;31mFileNotFoundError\u001B[0m                         Traceback (most recent call last)",
      "Cell \u001B[1;32mIn[46], line 1\u001B[0m\n\u001B[1;32m----> 1\u001B[0m \u001B[38;5;28;01mwith\u001B[39;00m \u001B[38;5;28;43mopen\u001B[39;49m\u001B[43m(\u001B[49m\u001B[38;5;124;43m\"\u001B[39;49m\u001B[38;5;124;43mmodels/label_encoder.pkl\u001B[39;49m\u001B[38;5;124;43m\"\u001B[39;49m\u001B[43m,\u001B[49m\u001B[43m \u001B[49m\u001B[38;5;124;43m\"\u001B[39;49m\u001B[38;5;124;43mrb\u001B[39;49m\u001B[38;5;124;43m\"\u001B[39;49m\u001B[43m)\u001B[49m \u001B[38;5;28;01mas\u001B[39;00m f:\n\u001B[0;32m      2\u001B[0m     le \u001B[38;5;241m=\u001B[39m pickle\u001B[38;5;241m.\u001B[39mload(f)\n",
      "File \u001B[1;32m~\\AppData\\Local\\Programs\\Python\\Python311\\Lib\\site-packages\\IPython\\core\\interactiveshell.py:324\u001B[0m, in \u001B[0;36m_modified_open\u001B[1;34m(file, *args, **kwargs)\u001B[0m\n\u001B[0;32m    317\u001B[0m \u001B[38;5;28;01mif\u001B[39;00m file \u001B[38;5;129;01min\u001B[39;00m {\u001B[38;5;241m0\u001B[39m, \u001B[38;5;241m1\u001B[39m, \u001B[38;5;241m2\u001B[39m}:\n\u001B[0;32m    318\u001B[0m     \u001B[38;5;28;01mraise\u001B[39;00m \u001B[38;5;167;01mValueError\u001B[39;00m(\n\u001B[0;32m    319\u001B[0m         \u001B[38;5;124mf\u001B[39m\u001B[38;5;124m\"\u001B[39m\u001B[38;5;124mIPython won\u001B[39m\u001B[38;5;124m'\u001B[39m\u001B[38;5;124mt let you open fd=\u001B[39m\u001B[38;5;132;01m{\u001B[39;00mfile\u001B[38;5;132;01m}\u001B[39;00m\u001B[38;5;124m by default \u001B[39m\u001B[38;5;124m\"\u001B[39m\n\u001B[0;32m    320\u001B[0m         \u001B[38;5;124m\"\u001B[39m\u001B[38;5;124mas it is likely to crash IPython. If you know what you are doing, \u001B[39m\u001B[38;5;124m\"\u001B[39m\n\u001B[0;32m    321\u001B[0m         \u001B[38;5;124m\"\u001B[39m\u001B[38;5;124myou can use builtins\u001B[39m\u001B[38;5;124m'\u001B[39m\u001B[38;5;124m open.\u001B[39m\u001B[38;5;124m\"\u001B[39m\n\u001B[0;32m    322\u001B[0m     )\n\u001B[1;32m--> 324\u001B[0m \u001B[38;5;28;01mreturn\u001B[39;00m \u001B[43mio_open\u001B[49m\u001B[43m(\u001B[49m\u001B[43mfile\u001B[49m\u001B[43m,\u001B[49m\u001B[43m \u001B[49m\u001B[38;5;241;43m*\u001B[39;49m\u001B[43margs\u001B[49m\u001B[43m,\u001B[49m\u001B[43m \u001B[49m\u001B[38;5;241;43m*\u001B[39;49m\u001B[38;5;241;43m*\u001B[39;49m\u001B[43mkwargs\u001B[49m\u001B[43m)\u001B[49m\n",
      "\u001B[1;31mFileNotFoundError\u001B[0m: [Errno 2] No such file or directory: 'models/label_encoder.pkl'"
     ]
    }
   ],
   "source": [
    "with open(\"models/label_encoder.pkl\", \"rb\") as f:\n",
    "    le = pickle.load(f)\n"
   ]
  },
  {
   "cell_type": "code",
   "execution_count": null,
   "id": "6db8c5ee-d3c6-46a5-826d-b905d4ea0bbd",
   "metadata": {},
   "outputs": [],
   "source": []
  }
 ],
 "metadata": {
  "kernelspec": {
   "display_name": "Python 3 (ipykernel)",
   "language": "python",
   "name": "python3"
  },
  "language_info": {
   "codemirror_mode": {
    "name": "ipython",
    "version": 3
   },
   "file_extension": ".py",
   "mimetype": "text/x-python",
   "name": "python",
   "nbconvert_exporter": "python",
   "pygments_lexer": "ipython3",
   "version": "3.11.7"
  }
 },
 "nbformat": 4,
 "nbformat_minor": 5
}
